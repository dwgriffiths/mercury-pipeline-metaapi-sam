{
 "cells": [
  {
   "cell_type": "code",
   "execution_count": 1,
   "id": "e7fd68f0-a1e8-4f16-a6f1-8898e37770a5",
   "metadata": {},
   "outputs": [],
   "source": [
    "import awswrangler as wr\n",
    "from datetime import datetime, timedelta\n",
    "import os\n",
    "import sys"
   ]
  },
  {
   "cell_type": "code",
   "execution_count": 2,
   "id": "60da779f-9b5f-4caa-a4c8-0ee1498051e1",
   "metadata": {},
   "outputs": [],
   "source": [
    "repo_name = \"mercury-pipeline-metaapi-sam\"\n",
    "sys.path.append(os.getcwd().split(repo_name)[0] + repo_name + \"/workflow\") "
   ]
  },
  {
   "cell_type": "code",
   "execution_count": 3,
   "id": "98ef5b0d-7893-4044-963d-4c02643b8af6",
   "metadata": {},
   "outputs": [],
   "source": [
    "from src.config import *\n",
    "from src.io import *\n",
    "from src.utils import *"
   ]
  },
  {
   "cell_type": "code",
   "execution_count": 4,
   "id": "2dbb67e8-67a2-4149-9b48-5557287e9bbf",
   "metadata": {},
   "outputs": [],
   "source": [
    "from app import *"
   ]
  },
  {
   "cell_type": "code",
   "execution_count": 5,
   "id": "86e80d4a-9183-4668-88bd-0945a9136574",
   "metadata": {},
   "outputs": [],
   "source": [
    "# result = lambda_handler({\"function\": \"setup_save_raw_ticks\", \"kwargs\":{\"stop\":False}}, None)\n",
    "# batch = result[\"batches\"][0]\n",
    "# item = batch[0]\n",
    "# item"
   ]
  },
  {
   "cell_type": "code",
   "execution_count": 6,
   "id": "c5a5be31-7f5c-4e47-b784-479e84073345",
   "metadata": {},
   "outputs": [],
   "source": [
    "# await job_batch_async(\n",
    "#     save_raw_ticks,\n",
    "#     batch\n",
    "# )"
   ]
  },
  {
   "cell_type": "code",
   "execution_count": 7,
   "id": "74e27745-73bb-4043-b0a6-b7933030ee28",
   "metadata": {},
   "outputs": [],
   "source": [
    "# lambda_handler({\"function\": \"save_raw_ticks\", \"kwargs\":batch}, None)"
   ]
  },
  {
   "cell_type": "code",
   "execution_count": 9,
   "id": "8b1fc13c-d8f6-4c88-a711-b302bb0f610f",
   "metadata": {},
   "outputs": [],
   "source": [
    "# result = lambda_handler({\"function\": \"setup_save_clean_ticks\", \"kwargs\":{\"overwrite\":False}}, None)\n",
    "# batch = result[\"batches\"][0]\n",
    "# item = batch[0]\n",
    "# item"
   ]
  },
  {
   "cell_type": "code",
   "execution_count": null,
   "id": "cf031a70-0601-4baa-af85-d35880134292",
   "metadata": {},
   "outputs": [],
   "source": [
    "# result = lambda_handler({\"function\": \"setup_save_candles_from_ticks\", \"kwargs\":{\"stop\":False}}, None)\n",
    "# batch = result[\"batches\"][0]\n",
    "# item = batch[0]\n",
    "# item"
   ]
  },
  {
   "cell_type": "code",
   "execution_count": null,
   "id": "022a39b8-2d13-48ed-a926-8397547c30be",
   "metadata": {},
   "outputs": [],
   "source": [
    "# lambda_handler({\"function\": \"save_candles_from_ticks\", \"kwargs\":batch}, None) # save_candles_from_ticks(**item)"
   ]
  },
  {
   "cell_type": "code",
   "execution_count": 10,
   "id": "353326cc-d0dd-4500-8856-aa0bf3d47872",
   "metadata": {},
   "outputs": [],
   "source": [
    "result = lambda_handler({\"function\": \"setup_save_candles_transformed\", \"kwargs\":{}}, None)"
   ]
  },
  {
   "cell_type": "code",
   "execution_count": 11,
   "id": "6df28615-a582-45fc-bda2-2819b31cce4f",
   "metadata": {},
   "outputs": [],
   "source": [
    "result"
   ]
  },
  {
   "cell_type": "code",
   "execution_count": null,
   "id": "43b0721c-005d-4d0f-a0f4-dd7d64e99621",
   "metadata": {},
   "outputs": [],
   "source": []
  }
 ],
 "metadata": {
  "kernelspec": {
   "display_name": "Python 3 (ipykernel)",
   "language": "python",
   "name": "python3"
  },
  "language_info": {
   "codemirror_mode": {
    "name": "ipython",
    "version": 3
   },
   "file_extension": ".py",
   "mimetype": "text/x-python",
   "name": "python",
   "nbconvert_exporter": "python",
   "pygments_lexer": "ipython3",
   "version": "3.9.12"
  }
 },
 "nbformat": 4,
 "nbformat_minor": 5
}
