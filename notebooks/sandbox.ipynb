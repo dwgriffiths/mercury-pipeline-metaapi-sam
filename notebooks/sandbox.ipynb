{
 "cells": [
  {
   "cell_type": "code",
   "execution_count": 1,
   "id": "e7fd68f0-a1e8-4f16-a6f1-8898e37770a5",
   "metadata": {},
   "outputs": [],
   "source": [
    "import awswrangler as wr\n",
    "from datetime import datetime, timedelta\n",
    "import os\n",
    "import sys"
   ]
  },
  {
   "cell_type": "code",
   "execution_count": 2,
   "id": "60da779f-9b5f-4caa-a4c8-0ee1498051e1",
   "metadata": {},
   "outputs": [],
   "source": [
    "repo_name = \"mercury-pipeline-metaapi-sam\"\n",
    "sys.path.append(os.getcwd().split(repo_name)[0] + repo_name + \"/workflow\") "
   ]
  },
  {
   "cell_type": "code",
   "execution_count": 3,
   "id": "98ef5b0d-7893-4044-963d-4c02643b8af6",
   "metadata": {},
   "outputs": [],
   "source": [
    "from src.config import *\n",
    "from src.io import *\n",
    "from src.utils import *"
   ]
  },
  {
   "cell_type": "code",
   "execution_count": 4,
   "id": "2dbb67e8-67a2-4149-9b48-5557287e9bbf",
   "metadata": {},
   "outputs": [],
   "source": [
    "from app import *"
   ]
  },
  {
   "cell_type": "code",
   "execution_count": null,
   "id": "86e80d4a-9183-4668-88bd-0945a9136574",
   "metadata": {},
   "outputs": [],
   "source": [
    "result = lambda_handler({\"function\": \"setup_save_raw_ticks\", \"kwargs\":{\"stop\":False}}, None)"
   ]
  },
  {
   "cell_type": "code",
   "execution_count": null,
   "id": "1c7c8b61-84b8-4f2b-9482-d0ed0eebde9c",
   "metadata": {},
   "outputs": [],
   "source": [
    "batch = result[\"batches\"][0]\n",
    "item = batch[0]\n",
    "item"
   ]
  },
  {
   "cell_type": "code",
   "execution_count": null,
   "id": "c5a5be31-7f5c-4e47-b784-479e84073345",
   "metadata": {},
   "outputs": [],
   "source": [
    "await job_batch_async(\n",
    "    save_raw_ticks,\n",
    "    batch\n",
    ")"
   ]
  },
  {
   "cell_type": "code",
   "execution_count": null,
   "id": "74e27745-73bb-4043-b0a6-b7933030ee28",
   "metadata": {},
   "outputs": [],
   "source": [
    "lambda_handler({\"function\": \"save_raw_ticks\", \"kwargs\":batch}, None)"
   ]
  },
  {
   "cell_type": "code",
   "execution_count": null,
   "id": "cf031a70-0601-4baa-af85-d35880134292",
   "metadata": {},
   "outputs": [],
   "source": []
  },
  {
   "cell_type": "code",
   "execution_count": null,
   "id": "353326cc-d0dd-4500-8856-aa0bf3d47872",
   "metadata": {},
   "outputs": [],
   "source": []
  },
  {
   "cell_type": "code",
   "execution_count": null,
   "id": "022a39b8-2d13-48ed-a926-8397547c30be",
   "metadata": {},
   "outputs": [],
   "source": []
  },
  {
   "cell_type": "code",
   "execution_count": null,
   "id": "ff22a9ae-acef-4b77-bd74-bad6ca6ba7eb",
   "metadata": {},
   "outputs": [],
   "source": [
    "lambda_setup_save_raw_ticks({}, None)"
   ]
  },
  {
   "cell_type": "code",
   "execution_count": null,
   "id": "0e6fced7-a2f6-4e79-9058-b8eed2efe510",
   "metadata": {},
   "outputs": [],
   "source": [
    "# lambda_setup_save_clean_ticks({}, None)"
   ]
  },
  {
   "cell_type": "code",
   "execution_count": null,
   "id": "e8de3df2-7bcd-4755-a3d7-581aaaa7f31c",
   "metadata": {},
   "outputs": [],
   "source": [
    "lambda_setup_save_ticks_to_candles({}, None)"
   ]
  },
  {
   "cell_type": "code",
   "execution_count": null,
   "id": "e93c5f40-4c5d-4ac1-ad9f-7cec775edbd2",
   "metadata": {},
   "outputs": [],
   "source": []
  }
 ],
 "metadata": {
  "kernelspec": {
   "display_name": "Python 3 (ipykernel)",
   "language": "python",
   "name": "python3"
  },
  "language_info": {
   "codemirror_mode": {
    "name": "ipython",
    "version": 3
   },
   "file_extension": ".py",
   "mimetype": "text/x-python",
   "name": "python",
   "nbconvert_exporter": "python",
   "pygments_lexer": "ipython3",
   "version": "3.9.12"
  }
 },
 "nbformat": 4,
 "nbformat_minor": 5
}
