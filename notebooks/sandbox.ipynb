{
 "cells": [
  {
   "cell_type": "code",
   "execution_count": 1,
   "id": "e7fd68f0-a1e8-4f16-a6f1-8898e37770a5",
   "metadata": {},
   "outputs": [],
   "source": [
    "import awswrangler as wr\n",
    "from datetime import datetime, timedelta\n",
    "import numpy as np\n",
    "import os\n",
    "import sys"
   ]
  },
  {
   "cell_type": "code",
   "execution_count": 2,
   "id": "60da779f-9b5f-4caa-a4c8-0ee1498051e1",
   "metadata": {},
   "outputs": [],
   "source": [
    "repo_name = \"mercury-pipeline-metaapi-sam\"\n",
    "sys.path.append(os.getcwd().split(repo_name)[0] + repo_name + \"/lambda\") "
   ]
  },
  {
   "cell_type": "code",
   "execution_count": 3,
   "id": "98ef5b0d-7893-4044-963d-4c02643b8af6",
   "metadata": {},
   "outputs": [],
   "source": [
    "from src.config import *\n",
    "from src.io import *\n",
    "from src.utils import *"
   ]
  },
  {
   "cell_type": "code",
   "execution_count": 4,
   "id": "2dbb67e8-67a2-4149-9b48-5557287e9bbf",
   "metadata": {},
   "outputs": [],
   "source": [
    "from app import *"
   ]
  },
  {
   "cell_type": "code",
   "execution_count": 5,
   "id": "f72ca4bf-705f-497e-a87c-bbe285078376",
   "metadata": {},
   "outputs": [],
   "source": [
    "# result = lambda_handler({\"function\": \"setup_save_raw_ticks\", \"stop\":False}, None)\n",
    "# result"
   ]
  },
  {
   "cell_type": "code",
   "execution_count": 6,
   "id": "a579e0a6-ef3d-4c3d-bbe9-2b3120288df7",
   "metadata": {},
   "outputs": [],
   "source": [
    "# await process_batch_async(save_raw_ticks, batch_id=3)"
   ]
  },
  {
   "cell_type": "code",
   "execution_count": 7,
   "id": "74e27745-73bb-4043-b0a6-b7933030ee28",
   "metadata": {},
   "outputs": [],
   "source": [
    "# lambda_handler({\"function\": \"save_raw_ticks\", \"batch_id\":result[0][0]}, None)"
   ]
  },
  {
   "cell_type": "code",
   "execution_count": 8,
   "id": "8b1fc13c-d8f6-4c88-a711-b302bb0f610f",
   "metadata": {},
   "outputs": [],
   "source": [
    "result = lambda_handler({\"function\": \"setup_save_clean_ticks\"},  None)\n",
    "# result"
   ]
  },
  {
   "cell_type": "code",
   "execution_count": 9,
   "id": "022a39b8-2d13-48ed-a926-8397547c30be",
   "metadata": {},
   "outputs": [
    {
     "data": {
      "text/plain": [
       "True"
      ]
     },
     "execution_count": 9,
     "metadata": {},
     "output_type": "execute_result"
    }
   ],
   "source": [
    "lambda_handler({\"function\": \"save_clean_ticks\", \"batch_id\":result[0][0]}, None)"
   ]
  },
  {
   "cell_type": "code",
   "execution_count": 10,
   "id": "dc91cc08-581f-4621-b319-7fbe0ba6d48a",
   "metadata": {},
   "outputs": [
    {
     "ename": "AssertionError",
     "evalue": "",
     "output_type": "error",
     "traceback": [
      "\u001b[1;31m---------------------------------------------------------------------------\u001b[0m",
      "\u001b[1;31mAssertionError\u001b[0m                            Traceback (most recent call last)",
      "Input \u001b[1;32mIn [10]\u001b[0m, in \u001b[0;36m<cell line: 1>\u001b[1;34m()\u001b[0m\n\u001b[1;32m----> 1\u001b[0m \u001b[38;5;28;01massert\u001b[39;00m \u001b[38;5;28;01mFalse\u001b[39;00m\n",
      "\u001b[1;31mAssertionError\u001b[0m: "
     ]
    }
   ],
   "source": [
    "assert False"
   ]
  },
  {
   "cell_type": "code",
   "execution_count": null,
   "id": "77093e11-e7a7-4ae3-b3b5-c0f2857f738f",
   "metadata": {},
   "outputs": [],
   "source": [
    "import pandas as pd"
   ]
  },
  {
   "cell_type": "code",
   "execution_count": null,
   "id": "fd9863e9-1578-4e90-a275-03e76add8af4",
   "metadata": {},
   "outputs": [],
   "source": [
    "pd.NA"
   ]
  },
  {
   "cell_type": "code",
   "execution_count": null,
   "id": "f3ecc927-c146-4708-92fa-7df443cddb14",
   "metadata": {},
   "outputs": [],
   "source": [
    "# result = lambda_handler({\"function\": \"setup_save_candles_from_ticks\"},  None)\n",
    "# result"
   ]
  },
  {
   "cell_type": "code",
   "execution_count": null,
   "id": "64a61d4d-4286-4696-87c9-ef6075f24ec8",
   "metadata": {},
   "outputs": [],
   "source": [
    "# lambda_handler({\"function\": \"save_candles_from_ticks\", \"batch_id\":result[0][0]},  None)"
   ]
  },
  {
   "cell_type": "code",
   "execution_count": null,
   "id": "d4f9509d-6bd5-4360-b946-5cc8a8dea86d",
   "metadata": {},
   "outputs": [],
   "source": [
    "result = lambda_handler(\n",
    "    {\n",
    "        \"function\": \"setup_save_candles_transformed\",\n",
    "        \"name_dataset_in\": \"from_ticks\",\n",
    "        \"name_dataset_out\": \"ffill\",\n",
    "        \"function_names\": [\"ffill\"],\n",
    "    },\n",
    "    None\n",
    ")\n",
    "np.max(result)"
   ]
  },
  {
   "cell_type": "code",
   "execution_count": null,
   "id": "3bb23199-e06a-4642-a7ab-8d6ae4937c46",
   "metadata": {},
   "outputs": [],
   "source": [
    "%%time\n",
    "lambda_handler({\"function\": \"save_candles_transformed\", \"batch_id\":result[0][0]},  None)"
   ]
  },
  {
   "cell_type": "code",
   "execution_count": null,
   "id": "8642cef6-8ab5-4a55-887c-9f4f8ed5a294",
   "metadata": {},
   "outputs": [],
   "source": [
    "%%time\n",
    "df = wr.s3.read_parquet(\n",
    "    f\"s3://{BUCKET}/{DIR_CANDLES_ROOT}/ffill/\",\n",
    "    dataset=True,\n",
    "    partition_filter = lambda x: True if all([\n",
    "        x[\"symbol\"] == \"GBPUSD\", x[\"frequency\"] == \"15T\"\n",
    "    ]) else False,\n",
    ")"
   ]
  },
  {
   "cell_type": "code",
   "execution_count": null,
   "id": "71da84f8-f88e-4451-853a-906e1a1ecb54",
   "metadata": {},
   "outputs": [],
   "source": [
    "import matplotlib.pyplot as plt"
   ]
  },
  {
   "cell_type": "code",
   "execution_count": null,
   "id": "ea4868cf-48d9-4ec4-8911-516d92d6ffb8",
   "metadata": {},
   "outputs": [],
   "source": [
    "plt.step(df[\"timestamp_utc.open\"], df[\"ask.close\"])"
   ]
  },
  {
   "cell_type": "code",
   "execution_count": null,
   "id": "20222627-6455-417b-91eb-a48ee1f2566b",
   "metadata": {},
   "outputs": [],
   "source": [
    "f_filter = lambda x: True if all([\n",
    "    x[\"symbol\"] == \"GBPUSD\",\n",
    "    x[\"frequency\"] == \"15T\",\n",
    "]) else False"
   ]
  },
  {
   "cell_type": "code",
   "execution_count": null,
   "id": "f8b472c1-0be9-4a5f-80dc-65df39a56e3a",
   "metadata": {},
   "outputs": [],
   "source": [
    "keys = [\n",
    "    x for x in wr.s3.list_objects(\n",
    "        f\"s3://{BUCKET}/{DIR_CANDLES_ROOT}/ffill/\",\n",
    "        suffix=\".parquet\"\n",
    "    ) if f_filter(get_parameters_from_key(x))\n",
    "]"
   ]
  },
  {
   "cell_type": "code",
   "execution_count": null,
   "id": "c09f45dd-de8a-474d-beaa-3dc0d1d43aa3",
   "metadata": {},
   "outputs": [],
   "source": [
    "len(keys)"
   ]
  },
  {
   "cell_type": "code",
   "execution_count": null,
   "id": "3e5b30d1-5421-449a-9027-e70db915d587",
   "metadata": {},
   "outputs": [],
   "source": [
    "wr.s3.download("
   ]
  },
  {
   "cell_type": "code",
   "execution_count": null,
   "id": "e81cf5f8-e778-4858-b9c0-be6cb473c349",
   "metadata": {},
   "outputs": [],
   "source": [
    "%%time\n",
    "dfs = [wr.s3.read_parquet(x) for x in keys]"
   ]
  },
  {
   "cell_type": "code",
   "execution_count": null,
   "id": "6650cb27-1f11-437d-8fdd-c2b9236a6093",
   "metadata": {},
   "outputs": [],
   "source": [
    "%%time\n",
    "wr.s3.read_parquet(keys)"
   ]
  },
  {
   "cell_type": "code",
   "execution_count": null,
   "id": "88d3c1d2-9f06-48fd-ba8f-55c209c8f4c0",
   "metadata": {},
   "outputs": [],
   "source": [
    "%%time\n",
    "for key in keys:\n",
    "    wr.s3.download(\n",
    "        key,\n",
    "        f\"./tmp/{key.split('candles/')[-1]}\"\n",
    "    )"
   ]
  },
  {
   "cell_type": "code",
   "execution_count": null,
   "id": "6a4faab4-6c3a-4169-85df-183cf8d4384a",
   "metadata": {},
   "outputs": [],
   "source": []
  },
  {
   "cell_type": "code",
   "execution_count": null,
   "id": "7bce1b42-445c-430f-bd29-570be85ae702",
   "metadata": {},
   "outputs": [],
   "source": []
  }
 ],
 "metadata": {
  "kernelspec": {
   "display_name": "Python 3 (ipykernel)",
   "language": "python",
   "name": "python3"
  },
  "language_info": {
   "codemirror_mode": {
    "name": "ipython",
    "version": 3
   },
   "file_extension": ".py",
   "mimetype": "text/x-python",
   "name": "python",
   "nbconvert_exporter": "python",
   "pygments_lexer": "ipython3",
   "version": "3.9.12"
  }
 },
 "nbformat": 4,
 "nbformat_minor": 5
}
