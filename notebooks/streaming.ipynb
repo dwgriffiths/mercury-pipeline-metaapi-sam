{
 "cells": [
  {
   "cell_type": "code",
   "execution_count": 1,
   "id": "e7fd68f0-a1e8-4f16-a6f1-8898e37770a5",
   "metadata": {},
   "outputs": [],
   "source": [
    "import asyncio\n",
    "import awswrangler as wr\n",
    "from datetime import datetime, timedelta\n",
    "from IPython.display import display\n",
    "from metaapi_cloud_sdk import MetaApi\n",
    "import os\n",
    "import pandas as pd\n",
    "import pytz\n",
    "import sys\n",
    "from time import sleep"
   ]
  },
  {
   "cell_type": "code",
   "execution_count": 2,
   "id": "60da779f-9b5f-4caa-a4c8-0ee1498051e1",
   "metadata": {},
   "outputs": [],
   "source": [
    "repo_name = \"mercury-pipeline-metaapi-sam\"\n",
    "sys.path.append(os.getcwd().split(repo_name)[0] + repo_name + \"/lambda\") "
   ]
  },
  {
   "cell_type": "code",
   "execution_count": 3,
   "id": "5c52f49b-656f-4a60-95ac-bb4c26bbe280",
   "metadata": {},
   "outputs": [],
   "source": [
    "from src.config import *\n",
    "from src.io import *\n",
    "from src.utils import *\n",
    "from src.access import get_demo_account"
   ]
  },
  {
   "cell_type": "code",
   "execution_count": 4,
   "id": "e698c333-cada-4aa8-9ec8-709ef4e88454",
   "metadata": {},
   "outputs": [],
   "source": [
    "from src.ticks.clean.get import get_clean_ticks\n",
    "from src.candles.from_ticks.get import get_candles_from_ticks\n",
    "from src.candles.transform.save import ffill"
   ]
  },
  {
   "cell_type": "code",
   "execution_count": 5,
   "id": "89155822-0294-4b02-abeb-638efed7df0c",
   "metadata": {},
   "outputs": [],
   "source": [
    "async def yield_raw_ticks_between_datetimes(\n",
    "    account: object,\n",
    "    symbol: str,\n",
    "    datetimeutc_from: datetime,\n",
    "    datetimeutc_to: datetime,\n",
    "    pause: int = 5\n",
    "):\n",
    "    offset = 0\n",
    "    while True:\n",
    "        l_ticks_i = await account.get_historical_ticks(\n",
    "            symbol,\n",
    "            start_time=datetimeutc_from,\n",
    "            limit=1000,\n",
    "            offset=offset,\n",
    "        )\n",
    "        if len(l_ticks_i) == 0:\n",
    "            break\n",
    "        yield offset, l_ticks_i\n",
    "        await asyncio.sleep(pause)\n",
    "        datetimeutc_last = l_ticks_i[-1][\"time\"]\n",
    "        offset += len(l_ticks_i)\n",
    "        if datetimeutc_last >= datetimeutc_to:\n",
    "            break"
   ]
  },
  {
   "cell_type": "code",
   "execution_count": 6,
   "id": "d0aeccbf-010a-4f58-8f8d-6ad079f8f6de",
   "metadata": {},
   "outputs": [],
   "source": [
    "symbol = \"GBPUSD\"\n",
    "frequency = \"15T\""
   ]
  },
  {
   "cell_type": "code",
   "execution_count": 7,
   "id": "15c89792-35ba-4a48-9ee3-f46cda8fbc48",
   "metadata": {},
   "outputs": [
    {
     "data": {
      "text/plain": [
       "('20220708000000000000', '20220709161104015631')"
      ]
     },
     "execution_count": 7,
     "metadata": {},
     "output_type": "execute_result"
    }
   ],
   "source": [
    "datetimestr_from = (\n",
    "    pytz\n",
    "    .timezone(\"Europe/London\")\n",
    "    .localize(datetime.now())\n",
    "    .astimezone(pytz.timezone(\"UTC\"))\n",
    "    .strftime(\"%Y%m%d000000000000\")\n",
    ")\n",
    "\n",
    "datetimestr_to = (\n",
    "    pytz\n",
    "    .timezone(\"Europe/London\")\n",
    "    .localize(datetime.now() + timedelta(days=1))\n",
    "    .astimezone(pytz.timezone(\"UTC\"))\n",
    "    .strftime(\"%Y%m%d%H%M%S%f\")\n",
    ")\n",
    "datetimestr_from, datetimestr_to"
   ]
  },
  {
   "cell_type": "code",
   "execution_count": 8,
   "id": "94151867-e1ce-4a3c-83ab-1a4bedf575bf",
   "metadata": {},
   "outputs": [],
   "source": [
    "# Get demo account\n",
    "account = await get_demo_account()\n",
    "\n",
    "# Convert datetimes from string to datetime\n",
    "datetimeutc_from = pytz.timezone(\"UTC\").localize(datetime.strptime(datetimestr_from, \"%Y%m%d%H%M%S%f\"))\n",
    "datetimeutc_to = pytz.timezone(\"UTC\").localize(datetime.strptime(datetimestr_to, \"%Y%m%d%H%M%S%f\"))"
   ]
  },
  {
   "cell_type": "code",
   "execution_count": 9,
   "id": "ecc3b374-39f3-4ef1-bd1b-af0aef579f6d",
   "metadata": {},
   "outputs": [],
   "source": [
    "generator_async = yield_raw_ticks_between_datetimes(\n",
    "    account=account,\n",
    "    symbol=symbol,\n",
    "    datetimeutc_from=datetimeutc_from,\n",
    "    datetimeutc_to=datetimeutc_to,\n",
    ")"
   ]
  },
  {
   "cell_type": "code",
   "execution_count": 10,
   "id": "2b4dc008-64c1-419c-aea8-356cecf5586c",
   "metadata": {},
   "outputs": [
    {
     "name": "stdout",
     "output_type": "stream",
     "text": [
      "0\n"
     ]
    },
    {
     "data": {
      "text/html": [
       "<div>\n",
       "<style scoped>\n",
       "    .dataframe tbody tr th:only-of-type {\n",
       "        vertical-align: middle;\n",
       "    }\n",
       "\n",
       "    .dataframe tbody tr th {\n",
       "        vertical-align: top;\n",
       "    }\n",
       "\n",
       "    .dataframe thead th {\n",
       "        text-align: right;\n",
       "    }\n",
       "</style>\n",
       "<table border=\"1\" class=\"dataframe\">\n",
       "  <thead>\n",
       "    <tr style=\"text-align: right;\">\n",
       "      <th></th>\n",
       "      <th>timestamp_utc.open</th>\n",
       "      <th>ask.open</th>\n",
       "      <th>ask.close</th>\n",
       "      <th>ask.low</th>\n",
       "      <th>ask.high</th>\n",
       "      <th>n_ticks</th>\n",
       "      <th>bid.open</th>\n",
       "      <th>bid.close</th>\n",
       "      <th>bid.low</th>\n",
       "      <th>bid.high</th>\n",
       "      <th>ask.idx_hi_lo</th>\n",
       "      <th>bid.idx_hi_lo</th>\n",
       "      <th>timestamp_utc.close</th>\n",
       "      <th>timestamp_uk.open</th>\n",
       "      <th>timestamp_uk.close</th>\n",
       "    </tr>\n",
       "  </thead>\n",
       "  <tbody>\n",
       "  </tbody>\n",
       "</table>\n",
       "</div>"
      ],
      "text/plain": [
       "Empty DataFrame\n",
       "Columns: [timestamp_utc.open, ask.open, ask.close, ask.low, ask.high, n_ticks, bid.open, bid.close, bid.low, bid.high, ask.idx_hi_lo, bid.idx_hi_lo, timestamp_utc.close, timestamp_uk.open, timestamp_uk.close]\n",
       "Index: []"
      ]
     },
     "metadata": {},
     "output_type": "display_data"
    },
    {
     "name": "stdout",
     "output_type": "stream",
     "text": [
      "1000\n"
     ]
    },
    {
     "data": {
      "text/html": [
       "<div>\n",
       "<style scoped>\n",
       "    .dataframe tbody tr th:only-of-type {\n",
       "        vertical-align: middle;\n",
       "    }\n",
       "\n",
       "    .dataframe tbody tr th {\n",
       "        vertical-align: top;\n",
       "    }\n",
       "\n",
       "    .dataframe thead th {\n",
       "        text-align: right;\n",
       "    }\n",
       "</style>\n",
       "<table border=\"1\" class=\"dataframe\">\n",
       "  <thead>\n",
       "    <tr style=\"text-align: right;\">\n",
       "      <th></th>\n",
       "      <th>timestamp_utc.open</th>\n",
       "      <th>ask.open</th>\n",
       "      <th>ask.close</th>\n",
       "      <th>ask.low</th>\n",
       "      <th>ask.high</th>\n",
       "      <th>n_ticks</th>\n",
       "      <th>bid.open</th>\n",
       "      <th>bid.close</th>\n",
       "      <th>bid.low</th>\n",
       "      <th>bid.high</th>\n",
       "      <th>ask.idx_hi_lo</th>\n",
       "      <th>bid.idx_hi_lo</th>\n",
       "      <th>timestamp_utc.close</th>\n",
       "      <th>timestamp_uk.open</th>\n",
       "      <th>timestamp_uk.close</th>\n",
       "    </tr>\n",
       "  </thead>\n",
       "  <tbody>\n",
       "  </tbody>\n",
       "</table>\n",
       "</div>"
      ],
      "text/plain": [
       "Empty DataFrame\n",
       "Columns: [timestamp_utc.open, ask.open, ask.close, ask.low, ask.high, n_ticks, bid.open, bid.close, bid.low, bid.high, ask.idx_hi_lo, bid.idx_hi_lo, timestamp_utc.close, timestamp_uk.open, timestamp_uk.close]\n",
       "Index: []"
      ]
     },
     "metadata": {},
     "output_type": "display_data"
    },
    {
     "name": "stdout",
     "output_type": "stream",
     "text": [
      "2000\n"
     ]
    },
    {
     "data": {
      "text/html": [
       "<div>\n",
       "<style scoped>\n",
       "    .dataframe tbody tr th:only-of-type {\n",
       "        vertical-align: middle;\n",
       "    }\n",
       "\n",
       "    .dataframe tbody tr th {\n",
       "        vertical-align: top;\n",
       "    }\n",
       "\n",
       "    .dataframe thead th {\n",
       "        text-align: right;\n",
       "    }\n",
       "</style>\n",
       "<table border=\"1\" class=\"dataframe\">\n",
       "  <thead>\n",
       "    <tr style=\"text-align: right;\">\n",
       "      <th></th>\n",
       "      <th>timestamp_utc.open</th>\n",
       "      <th>ask.open</th>\n",
       "      <th>ask.close</th>\n",
       "      <th>ask.low</th>\n",
       "      <th>ask.high</th>\n",
       "      <th>n_ticks</th>\n",
       "      <th>bid.open</th>\n",
       "      <th>bid.close</th>\n",
       "      <th>bid.low</th>\n",
       "      <th>bid.high</th>\n",
       "      <th>ask.idx_hi_lo</th>\n",
       "      <th>bid.idx_hi_lo</th>\n",
       "      <th>timestamp_utc.close</th>\n",
       "      <th>timestamp_uk.open</th>\n",
       "      <th>timestamp_uk.close</th>\n",
       "    </tr>\n",
       "  </thead>\n",
       "  <tbody>\n",
       "  </tbody>\n",
       "</table>\n",
       "</div>"
      ],
      "text/plain": [
       "Empty DataFrame\n",
       "Columns: [timestamp_utc.open, ask.open, ask.close, ask.low, ask.high, n_ticks, bid.open, bid.close, bid.low, bid.high, ask.idx_hi_lo, bid.idx_hi_lo, timestamp_utc.close, timestamp_uk.open, timestamp_uk.close]\n",
       "Index: []"
      ]
     },
     "metadata": {},
     "output_type": "display_data"
    },
    {
     "name": "stdout",
     "output_type": "stream",
     "text": [
      "3000\n"
     ]
    },
    {
     "data": {
      "text/html": [
       "<div>\n",
       "<style scoped>\n",
       "    .dataframe tbody tr th:only-of-type {\n",
       "        vertical-align: middle;\n",
       "    }\n",
       "\n",
       "    .dataframe tbody tr th {\n",
       "        vertical-align: top;\n",
       "    }\n",
       "\n",
       "    .dataframe thead th {\n",
       "        text-align: right;\n",
       "    }\n",
       "</style>\n",
       "<table border=\"1\" class=\"dataframe\">\n",
       "  <thead>\n",
       "    <tr style=\"text-align: right;\">\n",
       "      <th></th>\n",
       "      <th>timestamp_utc.open</th>\n",
       "      <th>ask.open</th>\n",
       "      <th>ask.close</th>\n",
       "      <th>ask.low</th>\n",
       "      <th>ask.high</th>\n",
       "      <th>n_ticks</th>\n",
       "      <th>bid.open</th>\n",
       "      <th>bid.close</th>\n",
       "      <th>bid.low</th>\n",
       "      <th>bid.high</th>\n",
       "      <th>ask.idx_hi_lo</th>\n",
       "      <th>bid.idx_hi_lo</th>\n",
       "      <th>timestamp_utc.close</th>\n",
       "      <th>timestamp_uk.open</th>\n",
       "      <th>timestamp_uk.close</th>\n",
       "    </tr>\n",
       "  </thead>\n",
       "  <tbody>\n",
       "  </tbody>\n",
       "</table>\n",
       "</div>"
      ],
      "text/plain": [
       "Empty DataFrame\n",
       "Columns: [timestamp_utc.open, ask.open, ask.close, ask.low, ask.high, n_ticks, bid.open, bid.close, bid.low, bid.high, ask.idx_hi_lo, bid.idx_hi_lo, timestamp_utc.close, timestamp_uk.open, timestamp_uk.close]\n",
       "Index: []"
      ]
     },
     "metadata": {},
     "output_type": "display_data"
    },
    {
     "name": "stdout",
     "output_type": "stream",
     "text": [
      "4000\n"
     ]
    },
    {
     "data": {
      "text/html": [
       "<div>\n",
       "<style scoped>\n",
       "    .dataframe tbody tr th:only-of-type {\n",
       "        vertical-align: middle;\n",
       "    }\n",
       "\n",
       "    .dataframe tbody tr th {\n",
       "        vertical-align: top;\n",
       "    }\n",
       "\n",
       "    .dataframe thead th {\n",
       "        text-align: right;\n",
       "    }\n",
       "</style>\n",
       "<table border=\"1\" class=\"dataframe\">\n",
       "  <thead>\n",
       "    <tr style=\"text-align: right;\">\n",
       "      <th></th>\n",
       "      <th>timestamp_utc.open</th>\n",
       "      <th>ask.open</th>\n",
       "      <th>ask.close</th>\n",
       "      <th>ask.low</th>\n",
       "      <th>ask.high</th>\n",
       "      <th>n_ticks</th>\n",
       "      <th>bid.open</th>\n",
       "      <th>bid.close</th>\n",
       "      <th>bid.low</th>\n",
       "      <th>bid.high</th>\n",
       "      <th>ask.idx_hi_lo</th>\n",
       "      <th>bid.idx_hi_lo</th>\n",
       "      <th>timestamp_utc.close</th>\n",
       "      <th>timestamp_uk.open</th>\n",
       "      <th>timestamp_uk.close</th>\n",
       "    </tr>\n",
       "  </thead>\n",
       "  <tbody>\n",
       "  </tbody>\n",
       "</table>\n",
       "</div>"
      ],
      "text/plain": [
       "Empty DataFrame\n",
       "Columns: [timestamp_utc.open, ask.open, ask.close, ask.low, ask.high, n_ticks, bid.open, bid.close, bid.low, bid.high, ask.idx_hi_lo, bid.idx_hi_lo, timestamp_utc.close, timestamp_uk.open, timestamp_uk.close]\n",
       "Index: []"
      ]
     },
     "metadata": {},
     "output_type": "display_data"
    },
    {
     "name": "stdout",
     "output_type": "stream",
     "text": [
      "5000\n"
     ]
    },
    {
     "data": {
      "text/html": [
       "<div>\n",
       "<style scoped>\n",
       "    .dataframe tbody tr th:only-of-type {\n",
       "        vertical-align: middle;\n",
       "    }\n",
       "\n",
       "    .dataframe tbody tr th {\n",
       "        vertical-align: top;\n",
       "    }\n",
       "\n",
       "    .dataframe thead th {\n",
       "        text-align: right;\n",
       "    }\n",
       "</style>\n",
       "<table border=\"1\" class=\"dataframe\">\n",
       "  <thead>\n",
       "    <tr style=\"text-align: right;\">\n",
       "      <th></th>\n",
       "      <th>timestamp_utc.open</th>\n",
       "      <th>ask.open</th>\n",
       "      <th>ask.close</th>\n",
       "      <th>ask.low</th>\n",
       "      <th>ask.high</th>\n",
       "      <th>n_ticks</th>\n",
       "      <th>bid.open</th>\n",
       "      <th>bid.close</th>\n",
       "      <th>bid.low</th>\n",
       "      <th>bid.high</th>\n",
       "      <th>ask.idx_hi_lo</th>\n",
       "      <th>bid.idx_hi_lo</th>\n",
       "      <th>timestamp_utc.close</th>\n",
       "      <th>timestamp_uk.open</th>\n",
       "      <th>timestamp_uk.close</th>\n",
       "    </tr>\n",
       "  </thead>\n",
       "  <tbody>\n",
       "  </tbody>\n",
       "</table>\n",
       "</div>"
      ],
      "text/plain": [
       "Empty DataFrame\n",
       "Columns: [timestamp_utc.open, ask.open, ask.close, ask.low, ask.high, n_ticks, bid.open, bid.close, bid.low, bid.high, ask.idx_hi_lo, bid.idx_hi_lo, timestamp_utc.close, timestamp_uk.open, timestamp_uk.close]\n",
       "Index: []"
      ]
     },
     "metadata": {},
     "output_type": "display_data"
    },
    {
     "name": "stdout",
     "output_type": "stream",
     "text": [
      "6000\n"
     ]
    },
    {
     "data": {
      "text/html": [
       "<div>\n",
       "<style scoped>\n",
       "    .dataframe tbody tr th:only-of-type {\n",
       "        vertical-align: middle;\n",
       "    }\n",
       "\n",
       "    .dataframe tbody tr th {\n",
       "        vertical-align: top;\n",
       "    }\n",
       "\n",
       "    .dataframe thead th {\n",
       "        text-align: right;\n",
       "    }\n",
       "</style>\n",
       "<table border=\"1\" class=\"dataframe\">\n",
       "  <thead>\n",
       "    <tr style=\"text-align: right;\">\n",
       "      <th></th>\n",
       "      <th>timestamp_utc.open</th>\n",
       "      <th>ask.open</th>\n",
       "      <th>ask.close</th>\n",
       "      <th>ask.low</th>\n",
       "      <th>ask.high</th>\n",
       "      <th>n_ticks</th>\n",
       "      <th>bid.open</th>\n",
       "      <th>bid.close</th>\n",
       "      <th>bid.low</th>\n",
       "      <th>bid.high</th>\n",
       "      <th>ask.idx_hi_lo</th>\n",
       "      <th>bid.idx_hi_lo</th>\n",
       "      <th>timestamp_utc.close</th>\n",
       "      <th>timestamp_uk.open</th>\n",
       "      <th>timestamp_uk.close</th>\n",
       "    </tr>\n",
       "  </thead>\n",
       "  <tbody>\n",
       "    <tr>\n",
       "      <th>0</th>\n",
       "      <td>2022-07-08</td>\n",
       "      <td>1.20321</td>\n",
       "      <td>1.2026</td>\n",
       "      <td>1.20252</td>\n",
       "      <td>1.20359</td>\n",
       "      <td>654</td>\n",
       "      <td>1.20271</td>\n",
       "      <td>1.20248</td>\n",
       "      <td>1.2024</td>\n",
       "      <td>1.20347</td>\n",
       "      <td>hi</td>\n",
       "      <td>hi</td>\n",
       "      <td>2022-07-08 00:15:00</td>\n",
       "      <td>2022-07-08 01:00:00</td>\n",
       "      <td>2022-07-08 01:15:00</td>\n",
       "    </tr>\n",
       "  </tbody>\n",
       "</table>\n",
       "</div>"
      ],
      "text/plain": [
       "  timestamp_utc.open  ask.open  ask.close  ask.low  ask.high  n_ticks  \\\n",
       "0         2022-07-08   1.20321     1.2026  1.20252   1.20359      654   \n",
       "\n",
       "   bid.open  bid.close  bid.low  bid.high ask.idx_hi_lo bid.idx_hi_lo  \\\n",
       "0   1.20271    1.20248   1.2024   1.20347            hi            hi   \n",
       "\n",
       "  timestamp_utc.close   timestamp_uk.open  timestamp_uk.close  \n",
       "0 2022-07-08 00:15:00 2022-07-08 01:00:00 2022-07-08 01:15:00  "
      ]
     },
     "metadata": {},
     "output_type": "display_data"
    },
    {
     "name": "stdout",
     "output_type": "stream",
     "text": [
      "7000\n"
     ]
    },
    {
     "data": {
      "text/html": [
       "<div>\n",
       "<style scoped>\n",
       "    .dataframe tbody tr th:only-of-type {\n",
       "        vertical-align: middle;\n",
       "    }\n",
       "\n",
       "    .dataframe tbody tr th {\n",
       "        vertical-align: top;\n",
       "    }\n",
       "\n",
       "    .dataframe thead th {\n",
       "        text-align: right;\n",
       "    }\n",
       "</style>\n",
       "<table border=\"1\" class=\"dataframe\">\n",
       "  <thead>\n",
       "    <tr style=\"text-align: right;\">\n",
       "      <th></th>\n",
       "      <th>timestamp_utc.open</th>\n",
       "      <th>ask.open</th>\n",
       "      <th>ask.close</th>\n",
       "      <th>ask.low</th>\n",
       "      <th>ask.high</th>\n",
       "      <th>n_ticks</th>\n",
       "      <th>bid.open</th>\n",
       "      <th>bid.close</th>\n",
       "      <th>bid.low</th>\n",
       "      <th>bid.high</th>\n",
       "      <th>ask.idx_hi_lo</th>\n",
       "      <th>bid.idx_hi_lo</th>\n",
       "      <th>timestamp_utc.close</th>\n",
       "      <th>timestamp_uk.open</th>\n",
       "      <th>timestamp_uk.close</th>\n",
       "    </tr>\n",
       "  </thead>\n",
       "  <tbody>\n",
       "  </tbody>\n",
       "</table>\n",
       "</div>"
      ],
      "text/plain": [
       "Empty DataFrame\n",
       "Columns: [timestamp_utc.open, ask.open, ask.close, ask.low, ask.high, n_ticks, bid.open, bid.close, bid.low, bid.high, ask.idx_hi_lo, bid.idx_hi_lo, timestamp_utc.close, timestamp_uk.open, timestamp_uk.close]\n",
       "Index: []"
      ]
     },
     "metadata": {},
     "output_type": "display_data"
    },
    {
     "name": "stdout",
     "output_type": "stream",
     "text": [
      "8000\n"
     ]
    },
    {
     "data": {
      "text/html": [
       "<div>\n",
       "<style scoped>\n",
       "    .dataframe tbody tr th:only-of-type {\n",
       "        vertical-align: middle;\n",
       "    }\n",
       "\n",
       "    .dataframe tbody tr th {\n",
       "        vertical-align: top;\n",
       "    }\n",
       "\n",
       "    .dataframe thead th {\n",
       "        text-align: right;\n",
       "    }\n",
       "</style>\n",
       "<table border=\"1\" class=\"dataframe\">\n",
       "  <thead>\n",
       "    <tr style=\"text-align: right;\">\n",
       "      <th></th>\n",
       "      <th>timestamp_utc.open</th>\n",
       "      <th>ask.open</th>\n",
       "      <th>ask.close</th>\n",
       "      <th>ask.low</th>\n",
       "      <th>ask.high</th>\n",
       "      <th>n_ticks</th>\n",
       "      <th>bid.open</th>\n",
       "      <th>bid.close</th>\n",
       "      <th>bid.low</th>\n",
       "      <th>bid.high</th>\n",
       "      <th>ask.idx_hi_lo</th>\n",
       "      <th>bid.idx_hi_lo</th>\n",
       "      <th>timestamp_utc.close</th>\n",
       "      <th>timestamp_uk.open</th>\n",
       "      <th>timestamp_uk.close</th>\n",
       "    </tr>\n",
       "  </thead>\n",
       "  <tbody>\n",
       "  </tbody>\n",
       "</table>\n",
       "</div>"
      ],
      "text/plain": [
       "Empty DataFrame\n",
       "Columns: [timestamp_utc.open, ask.open, ask.close, ask.low, ask.high, n_ticks, bid.open, bid.close, bid.low, bid.high, ask.idx_hi_lo, bid.idx_hi_lo, timestamp_utc.close, timestamp_uk.open, timestamp_uk.close]\n",
       "Index: []"
      ]
     },
     "metadata": {},
     "output_type": "display_data"
    },
    {
     "name": "stdout",
     "output_type": "stream",
     "text": [
      "9000\n"
     ]
    },
    {
     "data": {
      "text/html": [
       "<div>\n",
       "<style scoped>\n",
       "    .dataframe tbody tr th:only-of-type {\n",
       "        vertical-align: middle;\n",
       "    }\n",
       "\n",
       "    .dataframe tbody tr th {\n",
       "        vertical-align: top;\n",
       "    }\n",
       "\n",
       "    .dataframe thead th {\n",
       "        text-align: right;\n",
       "    }\n",
       "</style>\n",
       "<table border=\"1\" class=\"dataframe\">\n",
       "  <thead>\n",
       "    <tr style=\"text-align: right;\">\n",
       "      <th></th>\n",
       "      <th>timestamp_utc.open</th>\n",
       "      <th>ask.open</th>\n",
       "      <th>ask.close</th>\n",
       "      <th>ask.low</th>\n",
       "      <th>ask.high</th>\n",
       "      <th>n_ticks</th>\n",
       "      <th>bid.open</th>\n",
       "      <th>bid.close</th>\n",
       "      <th>bid.low</th>\n",
       "      <th>bid.high</th>\n",
       "      <th>ask.idx_hi_lo</th>\n",
       "      <th>bid.idx_hi_lo</th>\n",
       "      <th>timestamp_utc.close</th>\n",
       "      <th>timestamp_uk.open</th>\n",
       "      <th>timestamp_uk.close</th>\n",
       "    </tr>\n",
       "  </thead>\n",
       "  <tbody>\n",
       "  </tbody>\n",
       "</table>\n",
       "</div>"
      ],
      "text/plain": [
       "Empty DataFrame\n",
       "Columns: [timestamp_utc.open, ask.open, ask.close, ask.low, ask.high, n_ticks, bid.open, bid.close, bid.low, bid.high, ask.idx_hi_lo, bid.idx_hi_lo, timestamp_utc.close, timestamp_uk.open, timestamp_uk.close]\n",
       "Index: []"
      ]
     },
     "metadata": {},
     "output_type": "display_data"
    },
    {
     "name": "stdout",
     "output_type": "stream",
     "text": [
      "10000\n"
     ]
    },
    {
     "data": {
      "text/html": [
       "<div>\n",
       "<style scoped>\n",
       "    .dataframe tbody tr th:only-of-type {\n",
       "        vertical-align: middle;\n",
       "    }\n",
       "\n",
       "    .dataframe tbody tr th {\n",
       "        vertical-align: top;\n",
       "    }\n",
       "\n",
       "    .dataframe thead th {\n",
       "        text-align: right;\n",
       "    }\n",
       "</style>\n",
       "<table border=\"1\" class=\"dataframe\">\n",
       "  <thead>\n",
       "    <tr style=\"text-align: right;\">\n",
       "      <th></th>\n",
       "      <th>timestamp_utc.open</th>\n",
       "      <th>ask.open</th>\n",
       "      <th>ask.close</th>\n",
       "      <th>ask.low</th>\n",
       "      <th>ask.high</th>\n",
       "      <th>n_ticks</th>\n",
       "      <th>bid.open</th>\n",
       "      <th>bid.close</th>\n",
       "      <th>bid.low</th>\n",
       "      <th>bid.high</th>\n",
       "      <th>ask.idx_hi_lo</th>\n",
       "      <th>bid.idx_hi_lo</th>\n",
       "      <th>timestamp_utc.close</th>\n",
       "      <th>timestamp_uk.open</th>\n",
       "      <th>timestamp_uk.close</th>\n",
       "    </tr>\n",
       "  </thead>\n",
       "  <tbody>\n",
       "  </tbody>\n",
       "</table>\n",
       "</div>"
      ],
      "text/plain": [
       "Empty DataFrame\n",
       "Columns: [timestamp_utc.open, ask.open, ask.close, ask.low, ask.high, n_ticks, bid.open, bid.close, bid.low, bid.high, ask.idx_hi_lo, bid.idx_hi_lo, timestamp_utc.close, timestamp_uk.open, timestamp_uk.close]\n",
       "Index: []"
      ]
     },
     "metadata": {},
     "output_type": "display_data"
    },
    {
     "name": "stdout",
     "output_type": "stream",
     "text": [
      "11000\n"
     ]
    },
    {
     "data": {
      "text/html": [
       "<div>\n",
       "<style scoped>\n",
       "    .dataframe tbody tr th:only-of-type {\n",
       "        vertical-align: middle;\n",
       "    }\n",
       "\n",
       "    .dataframe tbody tr th {\n",
       "        vertical-align: top;\n",
       "    }\n",
       "\n",
       "    .dataframe thead th {\n",
       "        text-align: right;\n",
       "    }\n",
       "</style>\n",
       "<table border=\"1\" class=\"dataframe\">\n",
       "  <thead>\n",
       "    <tr style=\"text-align: right;\">\n",
       "      <th></th>\n",
       "      <th>timestamp_utc.open</th>\n",
       "      <th>ask.open</th>\n",
       "      <th>ask.close</th>\n",
       "      <th>ask.low</th>\n",
       "      <th>ask.high</th>\n",
       "      <th>n_ticks</th>\n",
       "      <th>bid.open</th>\n",
       "      <th>bid.close</th>\n",
       "      <th>bid.low</th>\n",
       "      <th>bid.high</th>\n",
       "      <th>ask.idx_hi_lo</th>\n",
       "      <th>bid.idx_hi_lo</th>\n",
       "      <th>timestamp_utc.close</th>\n",
       "      <th>timestamp_uk.open</th>\n",
       "      <th>timestamp_uk.close</th>\n",
       "    </tr>\n",
       "  </thead>\n",
       "  <tbody>\n",
       "    <tr>\n",
       "      <th>0</th>\n",
       "      <td>2022-07-08 00:15:00</td>\n",
       "      <td>1.20258</td>\n",
       "      <td>1.20299</td>\n",
       "      <td>1.20254</td>\n",
       "      <td>1.20342</td>\n",
       "      <td>451</td>\n",
       "      <td>1.20248</td>\n",
       "      <td>1.20287</td>\n",
       "      <td>1.20241</td>\n",
       "      <td>1.2033</td>\n",
       "      <td>lo</td>\n",
       "      <td>lo</td>\n",
       "      <td>2022-07-08 00:30:00</td>\n",
       "      <td>2022-07-08 01:15:00</td>\n",
       "      <td>2022-07-08 01:30:00</td>\n",
       "    </tr>\n",
       "  </tbody>\n",
       "</table>\n",
       "</div>"
      ],
      "text/plain": [
       "   timestamp_utc.open  ask.open  ask.close  ask.low  ask.high  n_ticks  \\\n",
       "0 2022-07-08 00:15:00   1.20258    1.20299  1.20254   1.20342      451   \n",
       "\n",
       "   bid.open  bid.close  bid.low  bid.high ask.idx_hi_lo bid.idx_hi_lo  \\\n",
       "0   1.20248    1.20287  1.20241    1.2033            lo            lo   \n",
       "\n",
       "  timestamp_utc.close   timestamp_uk.open  timestamp_uk.close  \n",
       "0 2022-07-08 00:30:00 2022-07-08 01:15:00 2022-07-08 01:30:00  "
      ]
     },
     "metadata": {},
     "output_type": "display_data"
    },
    {
     "name": "stdout",
     "output_type": "stream",
     "text": [
      "12000\n"
     ]
    },
    {
     "data": {
      "text/html": [
       "<div>\n",
       "<style scoped>\n",
       "    .dataframe tbody tr th:only-of-type {\n",
       "        vertical-align: middle;\n",
       "    }\n",
       "\n",
       "    .dataframe tbody tr th {\n",
       "        vertical-align: top;\n",
       "    }\n",
       "\n",
       "    .dataframe thead th {\n",
       "        text-align: right;\n",
       "    }\n",
       "</style>\n",
       "<table border=\"1\" class=\"dataframe\">\n",
       "  <thead>\n",
       "    <tr style=\"text-align: right;\">\n",
       "      <th></th>\n",
       "      <th>timestamp_utc.open</th>\n",
       "      <th>ask.open</th>\n",
       "      <th>ask.close</th>\n",
       "      <th>ask.low</th>\n",
       "      <th>ask.high</th>\n",
       "      <th>n_ticks</th>\n",
       "      <th>bid.open</th>\n",
       "      <th>bid.close</th>\n",
       "      <th>bid.low</th>\n",
       "      <th>bid.high</th>\n",
       "      <th>ask.idx_hi_lo</th>\n",
       "      <th>bid.idx_hi_lo</th>\n",
       "      <th>timestamp_utc.close</th>\n",
       "      <th>timestamp_uk.open</th>\n",
       "      <th>timestamp_uk.close</th>\n",
       "    </tr>\n",
       "  </thead>\n",
       "  <tbody>\n",
       "  </tbody>\n",
       "</table>\n",
       "</div>"
      ],
      "text/plain": [
       "Empty DataFrame\n",
       "Columns: [timestamp_utc.open, ask.open, ask.close, ask.low, ask.high, n_ticks, bid.open, bid.close, bid.low, bid.high, ask.idx_hi_lo, bid.idx_hi_lo, timestamp_utc.close, timestamp_uk.open, timestamp_uk.close]\n",
       "Index: []"
      ]
     },
     "metadata": {},
     "output_type": "display_data"
    },
    {
     "name": "stdout",
     "output_type": "stream",
     "text": [
      "13000\n"
     ]
    },
    {
     "data": {
      "text/html": [
       "<div>\n",
       "<style scoped>\n",
       "    .dataframe tbody tr th:only-of-type {\n",
       "        vertical-align: middle;\n",
       "    }\n",
       "\n",
       "    .dataframe tbody tr th {\n",
       "        vertical-align: top;\n",
       "    }\n",
       "\n",
       "    .dataframe thead th {\n",
       "        text-align: right;\n",
       "    }\n",
       "</style>\n",
       "<table border=\"1\" class=\"dataframe\">\n",
       "  <thead>\n",
       "    <tr style=\"text-align: right;\">\n",
       "      <th></th>\n",
       "      <th>timestamp_utc.open</th>\n",
       "      <th>ask.open</th>\n",
       "      <th>ask.close</th>\n",
       "      <th>ask.low</th>\n",
       "      <th>ask.high</th>\n",
       "      <th>n_ticks</th>\n",
       "      <th>bid.open</th>\n",
       "      <th>bid.close</th>\n",
       "      <th>bid.low</th>\n",
       "      <th>bid.high</th>\n",
       "      <th>ask.idx_hi_lo</th>\n",
       "      <th>bid.idx_hi_lo</th>\n",
       "      <th>timestamp_utc.close</th>\n",
       "      <th>timestamp_uk.open</th>\n",
       "      <th>timestamp_uk.close</th>\n",
       "    </tr>\n",
       "  </thead>\n",
       "  <tbody>\n",
       "  </tbody>\n",
       "</table>\n",
       "</div>"
      ],
      "text/plain": [
       "Empty DataFrame\n",
       "Columns: [timestamp_utc.open, ask.open, ask.close, ask.low, ask.high, n_ticks, bid.open, bid.close, bid.low, bid.high, ask.idx_hi_lo, bid.idx_hi_lo, timestamp_utc.close, timestamp_uk.open, timestamp_uk.close]\n",
       "Index: []"
      ]
     },
     "metadata": {},
     "output_type": "display_data"
    },
    {
     "name": "stdout",
     "output_type": "stream",
     "text": [
      "14000\n"
     ]
    },
    {
     "data": {
      "text/html": [
       "<div>\n",
       "<style scoped>\n",
       "    .dataframe tbody tr th:only-of-type {\n",
       "        vertical-align: middle;\n",
       "    }\n",
       "\n",
       "    .dataframe tbody tr th {\n",
       "        vertical-align: top;\n",
       "    }\n",
       "\n",
       "    .dataframe thead th {\n",
       "        text-align: right;\n",
       "    }\n",
       "</style>\n",
       "<table border=\"1\" class=\"dataframe\">\n",
       "  <thead>\n",
       "    <tr style=\"text-align: right;\">\n",
       "      <th></th>\n",
       "      <th>timestamp_utc.open</th>\n",
       "      <th>ask.open</th>\n",
       "      <th>ask.close</th>\n",
       "      <th>ask.low</th>\n",
       "      <th>ask.high</th>\n",
       "      <th>n_ticks</th>\n",
       "      <th>bid.open</th>\n",
       "      <th>bid.close</th>\n",
       "      <th>bid.low</th>\n",
       "      <th>bid.high</th>\n",
       "      <th>ask.idx_hi_lo</th>\n",
       "      <th>bid.idx_hi_lo</th>\n",
       "      <th>timestamp_utc.close</th>\n",
       "      <th>timestamp_uk.open</th>\n",
       "      <th>timestamp_uk.close</th>\n",
       "    </tr>\n",
       "  </thead>\n",
       "  <tbody>\n",
       "  </tbody>\n",
       "</table>\n",
       "</div>"
      ],
      "text/plain": [
       "Empty DataFrame\n",
       "Columns: [timestamp_utc.open, ask.open, ask.close, ask.low, ask.high, n_ticks, bid.open, bid.close, bid.low, bid.high, ask.idx_hi_lo, bid.idx_hi_lo, timestamp_utc.close, timestamp_uk.open, timestamp_uk.close]\n",
       "Index: []"
      ]
     },
     "metadata": {},
     "output_type": "display_data"
    },
    {
     "name": "stdout",
     "output_type": "stream",
     "text": [
      "15000\n"
     ]
    },
    {
     "data": {
      "text/html": [
       "<div>\n",
       "<style scoped>\n",
       "    .dataframe tbody tr th:only-of-type {\n",
       "        vertical-align: middle;\n",
       "    }\n",
       "\n",
       "    .dataframe tbody tr th {\n",
       "        vertical-align: top;\n",
       "    }\n",
       "\n",
       "    .dataframe thead th {\n",
       "        text-align: right;\n",
       "    }\n",
       "</style>\n",
       "<table border=\"1\" class=\"dataframe\">\n",
       "  <thead>\n",
       "    <tr style=\"text-align: right;\">\n",
       "      <th></th>\n",
       "      <th>timestamp_utc.open</th>\n",
       "      <th>ask.open</th>\n",
       "      <th>ask.close</th>\n",
       "      <th>ask.low</th>\n",
       "      <th>ask.high</th>\n",
       "      <th>n_ticks</th>\n",
       "      <th>bid.open</th>\n",
       "      <th>bid.close</th>\n",
       "      <th>bid.low</th>\n",
       "      <th>bid.high</th>\n",
       "      <th>ask.idx_hi_lo</th>\n",
       "      <th>bid.idx_hi_lo</th>\n",
       "      <th>timestamp_utc.close</th>\n",
       "      <th>timestamp_uk.open</th>\n",
       "      <th>timestamp_uk.close</th>\n",
       "    </tr>\n",
       "  </thead>\n",
       "  <tbody>\n",
       "  </tbody>\n",
       "</table>\n",
       "</div>"
      ],
      "text/plain": [
       "Empty DataFrame\n",
       "Columns: [timestamp_utc.open, ask.open, ask.close, ask.low, ask.high, n_ticks, bid.open, bid.close, bid.low, bid.high, ask.idx_hi_lo, bid.idx_hi_lo, timestamp_utc.close, timestamp_uk.open, timestamp_uk.close]\n",
       "Index: []"
      ]
     },
     "metadata": {},
     "output_type": "display_data"
    },
    {
     "name": "stdout",
     "output_type": "stream",
     "text": [
      "16000\n"
     ]
    },
    {
     "data": {
      "text/html": [
       "<div>\n",
       "<style scoped>\n",
       "    .dataframe tbody tr th:only-of-type {\n",
       "        vertical-align: middle;\n",
       "    }\n",
       "\n",
       "    .dataframe tbody tr th {\n",
       "        vertical-align: top;\n",
       "    }\n",
       "\n",
       "    .dataframe thead th {\n",
       "        text-align: right;\n",
       "    }\n",
       "</style>\n",
       "<table border=\"1\" class=\"dataframe\">\n",
       "  <thead>\n",
       "    <tr style=\"text-align: right;\">\n",
       "      <th></th>\n",
       "      <th>timestamp_utc.open</th>\n",
       "      <th>ask.open</th>\n",
       "      <th>ask.close</th>\n",
       "      <th>ask.low</th>\n",
       "      <th>ask.high</th>\n",
       "      <th>n_ticks</th>\n",
       "      <th>bid.open</th>\n",
       "      <th>bid.close</th>\n",
       "      <th>bid.low</th>\n",
       "      <th>bid.high</th>\n",
       "      <th>ask.idx_hi_lo</th>\n",
       "      <th>bid.idx_hi_lo</th>\n",
       "      <th>timestamp_utc.close</th>\n",
       "      <th>timestamp_uk.open</th>\n",
       "      <th>timestamp_uk.close</th>\n",
       "    </tr>\n",
       "  </thead>\n",
       "  <tbody>\n",
       "  </tbody>\n",
       "</table>\n",
       "</div>"
      ],
      "text/plain": [
       "Empty DataFrame\n",
       "Columns: [timestamp_utc.open, ask.open, ask.close, ask.low, ask.high, n_ticks, bid.open, bid.close, bid.low, bid.high, ask.idx_hi_lo, bid.idx_hi_lo, timestamp_utc.close, timestamp_uk.open, timestamp_uk.close]\n",
       "Index: []"
      ]
     },
     "metadata": {},
     "output_type": "display_data"
    },
    {
     "name": "stdout",
     "output_type": "stream",
     "text": [
      "17000\n"
     ]
    },
    {
     "data": {
      "text/html": [
       "<div>\n",
       "<style scoped>\n",
       "    .dataframe tbody tr th:only-of-type {\n",
       "        vertical-align: middle;\n",
       "    }\n",
       "\n",
       "    .dataframe tbody tr th {\n",
       "        vertical-align: top;\n",
       "    }\n",
       "\n",
       "    .dataframe thead th {\n",
       "        text-align: right;\n",
       "    }\n",
       "</style>\n",
       "<table border=\"1\" class=\"dataframe\">\n",
       "  <thead>\n",
       "    <tr style=\"text-align: right;\">\n",
       "      <th></th>\n",
       "      <th>timestamp_utc.open</th>\n",
       "      <th>ask.open</th>\n",
       "      <th>ask.close</th>\n",
       "      <th>ask.low</th>\n",
       "      <th>ask.high</th>\n",
       "      <th>n_ticks</th>\n",
       "      <th>bid.open</th>\n",
       "      <th>bid.close</th>\n",
       "      <th>bid.low</th>\n",
       "      <th>bid.high</th>\n",
       "      <th>ask.idx_hi_lo</th>\n",
       "      <th>bid.idx_hi_lo</th>\n",
       "      <th>timestamp_utc.close</th>\n",
       "      <th>timestamp_uk.open</th>\n",
       "      <th>timestamp_uk.close</th>\n",
       "    </tr>\n",
       "  </thead>\n",
       "  <tbody>\n",
       "    <tr>\n",
       "      <th>0</th>\n",
       "      <td>2022-07-08 00:30:00</td>\n",
       "      <td>1.203</td>\n",
       "      <td>1.20329</td>\n",
       "      <td>1.20272</td>\n",
       "      <td>1.20343</td>\n",
       "      <td>478</td>\n",
       "      <td>1.20287</td>\n",
       "      <td>1.20317</td>\n",
       "      <td>1.20259</td>\n",
       "      <td>1.20331</td>\n",
       "      <td>lo</td>\n",
       "      <td>lo</td>\n",
       "      <td>2022-07-08 00:45:00</td>\n",
       "      <td>2022-07-08 01:30:00</td>\n",
       "      <td>2022-07-08 01:45:00</td>\n",
       "    </tr>\n",
       "  </tbody>\n",
       "</table>\n",
       "</div>"
      ],
      "text/plain": [
       "   timestamp_utc.open  ask.open  ask.close  ask.low  ask.high  n_ticks  \\\n",
       "0 2022-07-08 00:30:00     1.203    1.20329  1.20272   1.20343      478   \n",
       "\n",
       "   bid.open  bid.close  bid.low  bid.high ask.idx_hi_lo bid.idx_hi_lo  \\\n",
       "0   1.20287    1.20317  1.20259   1.20331            lo            lo   \n",
       "\n",
       "  timestamp_utc.close   timestamp_uk.open  timestamp_uk.close  \n",
       "0 2022-07-08 00:45:00 2022-07-08 01:30:00 2022-07-08 01:45:00  "
      ]
     },
     "metadata": {},
     "output_type": "display_data"
    },
    {
     "name": "stdout",
     "output_type": "stream",
     "text": [
      "18000\n"
     ]
    },
    {
     "data": {
      "text/html": [
       "<div>\n",
       "<style scoped>\n",
       "    .dataframe tbody tr th:only-of-type {\n",
       "        vertical-align: middle;\n",
       "    }\n",
       "\n",
       "    .dataframe tbody tr th {\n",
       "        vertical-align: top;\n",
       "    }\n",
       "\n",
       "    .dataframe thead th {\n",
       "        text-align: right;\n",
       "    }\n",
       "</style>\n",
       "<table border=\"1\" class=\"dataframe\">\n",
       "  <thead>\n",
       "    <tr style=\"text-align: right;\">\n",
       "      <th></th>\n",
       "      <th>timestamp_utc.open</th>\n",
       "      <th>ask.open</th>\n",
       "      <th>ask.close</th>\n",
       "      <th>ask.low</th>\n",
       "      <th>ask.high</th>\n",
       "      <th>n_ticks</th>\n",
       "      <th>bid.open</th>\n",
       "      <th>bid.close</th>\n",
       "      <th>bid.low</th>\n",
       "      <th>bid.high</th>\n",
       "      <th>ask.idx_hi_lo</th>\n",
       "      <th>bid.idx_hi_lo</th>\n",
       "      <th>timestamp_utc.close</th>\n",
       "      <th>timestamp_uk.open</th>\n",
       "      <th>timestamp_uk.close</th>\n",
       "    </tr>\n",
       "  </thead>\n",
       "  <tbody>\n",
       "  </tbody>\n",
       "</table>\n",
       "</div>"
      ],
      "text/plain": [
       "Empty DataFrame\n",
       "Columns: [timestamp_utc.open, ask.open, ask.close, ask.low, ask.high, n_ticks, bid.open, bid.close, bid.low, bid.high, ask.idx_hi_lo, bid.idx_hi_lo, timestamp_utc.close, timestamp_uk.open, timestamp_uk.close]\n",
       "Index: []"
      ]
     },
     "metadata": {},
     "output_type": "display_data"
    },
    {
     "name": "stdout",
     "output_type": "stream",
     "text": [
      "19000\n"
     ]
    },
    {
     "data": {
      "text/html": [
       "<div>\n",
       "<style scoped>\n",
       "    .dataframe tbody tr th:only-of-type {\n",
       "        vertical-align: middle;\n",
       "    }\n",
       "\n",
       "    .dataframe tbody tr th {\n",
       "        vertical-align: top;\n",
       "    }\n",
       "\n",
       "    .dataframe thead th {\n",
       "        text-align: right;\n",
       "    }\n",
       "</style>\n",
       "<table border=\"1\" class=\"dataframe\">\n",
       "  <thead>\n",
       "    <tr style=\"text-align: right;\">\n",
       "      <th></th>\n",
       "      <th>timestamp_utc.open</th>\n",
       "      <th>ask.open</th>\n",
       "      <th>ask.close</th>\n",
       "      <th>ask.low</th>\n",
       "      <th>ask.high</th>\n",
       "      <th>n_ticks</th>\n",
       "      <th>bid.open</th>\n",
       "      <th>bid.close</th>\n",
       "      <th>bid.low</th>\n",
       "      <th>bid.high</th>\n",
       "      <th>ask.idx_hi_lo</th>\n",
       "      <th>bid.idx_hi_lo</th>\n",
       "      <th>timestamp_utc.close</th>\n",
       "      <th>timestamp_uk.open</th>\n",
       "      <th>timestamp_uk.close</th>\n",
       "    </tr>\n",
       "  </thead>\n",
       "  <tbody>\n",
       "  </tbody>\n",
       "</table>\n",
       "</div>"
      ],
      "text/plain": [
       "Empty DataFrame\n",
       "Columns: [timestamp_utc.open, ask.open, ask.close, ask.low, ask.high, n_ticks, bid.open, bid.close, bid.low, bid.high, ask.idx_hi_lo, bid.idx_hi_lo, timestamp_utc.close, timestamp_uk.open, timestamp_uk.close]\n",
       "Index: []"
      ]
     },
     "metadata": {},
     "output_type": "display_data"
    }
   ],
   "source": [
    "# Before I do anything, I need to get the last candle from the previous night\n",
    "# from clean/candles/from_ticks\n",
    "\n",
    "\n",
    "\n",
    "\n",
    "\n",
    "\n",
    "i = 0\n",
    "df_ticks_clean_prev = pd.DataFrame()\n",
    "async for offset, ticks_raw in generator_async:\n",
    "    \n",
    "    print(offset)\n",
    "    \n",
    "    if ticks_raw == []:\n",
    "        sleep(10)\n",
    "        continue\n",
    "\n",
    "    df_ticks_clean = get_clean_ticks(ticks_raw)\n",
    "    df_ticks_clean = pd.concat([\n",
    "        df_ticks_clean_prev,\n",
    "        df_ticks_clean\n",
    "    ])\n",
    "    \n",
    "    df_candles_from_ticks = get_candles_from_ticks(\n",
    "        df_ticks_clean,\n",
    "        frequency\n",
    "    )\n",
    "\n",
    "    df_candles_ffill = ffill(df_candles_from_ticks)\n",
    "    \n",
    "    s_candle_last = df_candles_ffill.iloc[-1]\n",
    "    df_candles_out = df_candles_ffill.iloc[:-1].copy() # could be empty so beware\n",
    "    \n",
    "    mask_last = df_ticks_clean[\"timestamp_utc\"] >= s_candle_last[\"timestamp_utc.open\"]\n",
    "    df_ticks_clean_prev = df_ticks_clean[mask_last].copy()\n",
    "    \n",
    "    display(df_candles_out)\n",
    "\n",
    "    i += 1\n",
    "    if i >= 20:\n",
    "        break\n",
    "    sleep(1)"
   ]
  },
  {
   "cell_type": "code",
   "execution_count": null,
   "id": "f20e13f7-5deb-44d9-a96b-071851f7f6a0",
   "metadata": {},
   "outputs": [],
   "source": []
  },
  {
   "cell_type": "code",
   "execution_count": null,
   "id": "345f2bc4-53e8-4886-bb19-bb53dada95fc",
   "metadata": {},
   "outputs": [],
   "source": []
  },
  {
   "cell_type": "code",
   "execution_count": null,
   "id": "af301265-ed16-4faf-a147-bc1beed9e14a",
   "metadata": {},
   "outputs": [],
   "source": []
  },
  {
   "cell_type": "code",
   "execution_count": null,
   "id": "efb7700a-3038-48f4-b7b8-812ae7230eb0",
   "metadata": {},
   "outputs": [],
   "source": []
  },
  {
   "cell_type": "code",
   "execution_count": null,
   "id": "e3b6177f-9351-49fc-b776-a4cec75a5b00",
   "metadata": {},
   "outputs": [],
   "source": []
  },
  {
   "cell_type": "code",
   "execution_count": null,
   "id": "f65df6ef-3a6a-4a0b-b04d-392f48bf12cc",
   "metadata": {},
   "outputs": [],
   "source": []
  },
  {
   "cell_type": "code",
   "execution_count": null,
   "id": "01f7fffb-c933-4537-b183-1bb5ff67f182",
   "metadata": {},
   "outputs": [],
   "source": []
  },
  {
   "cell_type": "code",
   "execution_count": 11,
   "id": "53818e28-0cd2-41fb-bdb0-4def755ef19b",
   "metadata": {},
   "outputs": [
    {
     "ename": "AssertionError",
     "evalue": "",
     "output_type": "error",
     "traceback": [
      "\u001b[1;31m---------------------------------------------------------------------------\u001b[0m",
      "\u001b[1;31mAssertionError\u001b[0m                            Traceback (most recent call last)",
      "Input \u001b[1;32mIn [11]\u001b[0m, in \u001b[0;36m<cell line: 1>\u001b[1;34m()\u001b[0m\n\u001b[1;32m----> 1\u001b[0m \u001b[38;5;28;01massert\u001b[39;00m \u001b[38;5;28;01mFalse\u001b[39;00m\n",
      "\u001b[1;31mAssertionError\u001b[0m: "
     ]
    }
   ],
   "source": [
    "assert False"
   ]
  },
  {
   "cell_type": "code",
   "execution_count": null,
   "id": "14876c78-b905-4146-8258-7da113b60806",
   "metadata": {},
   "outputs": [],
   "source": [
    "offset, ticks_raw = await generator_async.__anext__()"
   ]
  },
  {
   "cell_type": "code",
   "execution_count": null,
   "id": "5c4a07c4-36a8-47c3-a540-4c6d1899f058",
   "metadata": {},
   "outputs": [],
   "source": [
    "ticks_raw[0], ticks_raw[-1]"
   ]
  },
  {
   "cell_type": "code",
   "execution_count": null,
   "id": "36d0459d-d59d-400c-b4fe-6972fc29de6c",
   "metadata": {},
   "outputs": [],
   "source": [
    "df_ticks_clean = get_clean_ticks(ticks_raw)\n",
    "df_ticks_clean"
   ]
  },
  {
   "cell_type": "code",
   "execution_count": null,
   "id": "ec7d3aac-6bf7-4e7d-a112-1cf68149034c",
   "metadata": {},
   "outputs": [],
   "source": [
    "df_candles_from_ticks = get_candles_from_ticks(\n",
    "    df_ticks_clean,\n",
    "    frequency\n",
    ")\n",
    "df_candles_from_ticks"
   ]
  },
  {
   "cell_type": "code",
   "execution_count": null,
   "id": "d981b4c3-61e3-487b-9faa-81abf5294aa4",
   "metadata": {},
   "outputs": [],
   "source": [
    "df_candles_ffill = ffill(df_candles_from_ticks)\n",
    "df_candles_ffill"
   ]
  },
  {
   "cell_type": "code",
   "execution_count": null,
   "id": "3e434e57-21b2-452f-86d0-7cfc468bedce",
   "metadata": {},
   "outputs": [],
   "source": [
    "s_candle_last = df_candles_ffill.iloc[-1]\n",
    "s_candle_last"
   ]
  },
  {
   "cell_type": "code",
   "execution_count": null,
   "id": "4c47c496-1256-4c8b-8583-a3ffa636a41e",
   "metadata": {},
   "outputs": [],
   "source": [
    "df_candles_out = df_candles_ffill.iloc[:-1].copy()\n",
    "df_candles_out"
   ]
  },
  {
   "cell_type": "code",
   "execution_count": null,
   "id": "ed0bc6fd-1d36-4ad5-bd6d-ffde2966c195",
   "metadata": {},
   "outputs": [],
   "source": [
    "df_ticks_clean_last = df_ticks_clean[df_ticks_clean[\"timestamp_utc\"] >= s_candle_last[\"timestamp_utc.open\"]].copy()\n",
    "df_ticks_clean_last"
   ]
  },
  {
   "cell_type": "code",
   "execution_count": null,
   "id": "73a8f6a2-79c8-4fdc-81e7-8baf6c90b5a9",
   "metadata": {},
   "outputs": [],
   "source": [
    "offset, ticks_raw = await generator_async.__anext__()"
   ]
  },
  {
   "cell_type": "code",
   "execution_count": null,
   "id": "e3d7171c-e0c4-4396-82f9-a837764b939c",
   "metadata": {},
   "outputs": [],
   "source": [
    "df_ticks_clean = get_clean_ticks(ticks_raw)\n",
    "df_ticks_clean"
   ]
  },
  {
   "cell_type": "code",
   "execution_count": null,
   "id": "3594fd49-11ab-49bc-adc3-b931816125c4",
   "metadata": {},
   "outputs": [],
   "source": [
    "df_ticks_clean = pd.concat([\n",
    "    df_ticks_clean_last,\n",
    "    df_ticks_clean\n",
    "])\n",
    "df_ticks_clean"
   ]
  },
  {
   "cell_type": "code",
   "execution_count": null,
   "id": "81d00760-af4e-433d-8062-b9db402b1a07",
   "metadata": {},
   "outputs": [],
   "source": [
    "df_candles_from_ticks = get_candles_from_ticks(\n",
    "    df_ticks_clean,\n",
    "    frequency\n",
    ")\n",
    "df_candles_from_ticks"
   ]
  },
  {
   "cell_type": "code",
   "execution_count": null,
   "id": "7acaa602-66b9-4c62-9105-ad7aab50cba3",
   "metadata": {},
   "outputs": [],
   "source": [
    "df_candles_ffill = ffill(df_candles_from_ticks)\n",
    "df_candles_ffill"
   ]
  },
  {
   "cell_type": "code",
   "execution_count": null,
   "id": "765eb9b9-6270-475f-ada2-9179d1e9df52",
   "metadata": {},
   "outputs": [],
   "source": [
    "s_candle_last = df_candles_ffill.iloc[-1]\n",
    "s_candle_last"
   ]
  },
  {
   "cell_type": "code",
   "execution_count": null,
   "id": "8d489958-3b3c-4181-bb06-20c3fe29f175",
   "metadata": {},
   "outputs": [],
   "source": [
    "df_candles_out = df_candles_ffill.iloc[:-1].copy()\n",
    "df_candles_out"
   ]
  },
  {
   "cell_type": "code",
   "execution_count": null,
   "id": "b7567807-0957-44ba-827b-788597da042e",
   "metadata": {},
   "outputs": [],
   "source": [
    "df_ticks_clean_last = df_ticks_clean[df_ticks_clean[\"timestamp_utc\"] >= s_candle_last[\"timestamp_utc.open\"]].copy()\n",
    "df_ticks_clean_last"
   ]
  },
  {
   "cell_type": "code",
   "execution_count": null,
   "id": "23cf1446-c457-4f98-9bff-c084152c3c81",
   "metadata": {},
   "outputs": [],
   "source": []
  }
 ],
 "metadata": {
  "kernelspec": {
   "display_name": "Python 3 (ipykernel)",
   "language": "python",
   "name": "python3"
  },
  "language_info": {
   "codemirror_mode": {
    "name": "ipython",
    "version": 3
   },
   "file_extension": ".py",
   "mimetype": "text/x-python",
   "name": "python",
   "nbconvert_exporter": "python",
   "pygments_lexer": "ipython3",
   "version": "3.9.12"
  }
 },
 "nbformat": 4,
 "nbformat_minor": 5
}
