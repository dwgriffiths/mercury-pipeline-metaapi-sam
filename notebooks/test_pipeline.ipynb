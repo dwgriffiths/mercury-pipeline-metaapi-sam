{
 "cells": [
  {
   "cell_type": "code",
   "execution_count": 1,
   "id": "e7fd68f0-a1e8-4f16-a6f1-8898e37770a5",
   "metadata": {},
   "outputs": [],
   "source": [
    "import awswrangler as wr\n",
    "from datetime import datetime, timedelta\n",
    "import numpy as np\n",
    "import os\n",
    "import sys"
   ]
  },
  {
   "cell_type": "code",
   "execution_count": 2,
   "id": "60da779f-9b5f-4caa-a4c8-0ee1498051e1",
   "metadata": {},
   "outputs": [],
   "source": [
    "repo_name = \"mercury-pipeline-metaapi-sam\"\n",
    "sys.path.append(os.getcwd().split(repo_name)[0] + repo_name + \"/lambda\") "
   ]
  },
  {
   "cell_type": "code",
   "execution_count": 6,
   "id": "2dbb67e8-67a2-4149-9b48-5557287e9bbf",
   "metadata": {},
   "outputs": [],
   "source": [
    "import app"
   ]
  },
  {
   "cell_type": "code",
   "execution_count": null,
   "id": "dcc4745f-b18b-4cd9-96b4-cbce01cf4580",
   "metadata": {},
   "outputs": [
    {
     "data": {
      "text/plain": [
       "'202207'"
      ]
     },
     "execution_count": 4,
     "metadata": {},
     "output_type": "execute_result"
    }
   ],
   "source": [
    "months = app.lambda_handler({\n",
    "    \"function\": {\n",
    "        \"name\": \"get_months\",\n",
    "        \"parameters\": {\n",
    "        }\n",
    "    }\n",
    "}, None)\n",
    "months[0]"
   ]
  },
  {
   "cell_type": "code",
   "execution_count": null,
   "id": "fb1b1933-3699-4854-a056-e84f666adbfc",
   "metadata": {},
   "outputs": [],
   "source": [
    "# batches = app.lambda_handler({\n",
    "#     \"function\": {\n",
    "#         \"name\": \"find_missing_raw_ticks\",\n",
    "#         \"parameters\": {\n",
    "#             \"month\": months[-1],\n",
    "#             \"batch_size\": 12,\n",
    "#             \"dynamo_table\": \"mercury-pipeline-metaapi-ControllerTable-15QM09J0Q9TVL\"\n",
    "#         }\n",
    "#     }\n",
    "# }, None)"
   ]
  },
  {
   "cell_type": "code",
   "execution_count": null,
   "id": "09ea9765-13ea-4169-b497-87f04b49a3bd",
   "metadata": {},
   "outputs": [],
   "source": [
    "# app.lambda_handler({\n",
    "#     \"function\": {\n",
    "#         \"name\": \"save_missing_raw_ticks\",\n",
    "#         \"parameters\": {\n",
    "#             \"dynamo_table\": \"mercury-pipeline-metaapi-ControllerTable-15QM09J0Q9TVL\",\n",
    "#             \"batch_id\": batches[0][0],\n",
    "#         }\n",
    "#     }\n",
    "# }, None)"
   ]
  },
  {
   "cell_type": "code",
   "execution_count": null,
   "id": "e7243bb9-d93f-4dac-bd30-6d9549b7e6b4",
   "metadata": {},
   "outputs": [],
   "source": [
    "# batches = app.lambda_handler({\n",
    "#     \"function\": {\n",
    "#         \"name\": \"find_missing_clean_ticks\",\n",
    "#         \"parameters\": {\n",
    "#             \"month\": months[0],\n",
    "#             \"batch_size\": 3,\n",
    "#             \"dynamo_table\": \"mercury-pipeline-metaapi-ControllerTable-15QM09J0Q9TVL\"\n",
    "#         }\n",
    "#     }\n",
    "# }, None)"
   ]
  },
  {
   "cell_type": "code",
   "execution_count": null,
   "id": "3b429b56-69f9-4f95-88ac-d3906973f028",
   "metadata": {},
   "outputs": [],
   "source": [
    "# app.lambda_handler({\n",
    "#     \"function\": {\n",
    "#         \"name\": \"save_missing_clean_ticks\",\n",
    "#         \"parameters\": {\n",
    "#             \"dynamo_table\": \"mercury-pipeline-metaapi-ControllerTable-15QM09J0Q9TVL\",\n",
    "#             \"batch_id\": batches[0][0],\n",
    "#         }\n",
    "#     }\n",
    "# }, None)"
   ]
  },
  {
   "cell_type": "code",
   "execution_count": null,
   "id": "527be184-7693-400b-9563-6686a1300a56",
   "metadata": {},
   "outputs": [],
   "source": [
    "# batches = app.lambda_handler({\n",
    "#     \"function\": {\n",
    "#         \"name\": \"find_missing_candles_from_ticks\",\n",
    "#         \"parameters\": {\n",
    "#             \"month\": months[0],\n",
    "#             \"batch_size\": 3,\n",
    "#             \"dynamo_table\": \"mercury-pipeline-metaapi-ControllerTable-15QM09J0Q9TVL\"\n",
    "#         }\n",
    "#     }\n",
    "# }, None)"
   ]
  },
  {
   "cell_type": "code",
   "execution_count": null,
   "id": "9036c345-8897-4969-8f2f-1cf2a5602e27",
   "metadata": {},
   "outputs": [],
   "source": [
    "# app.lambda_handler({\n",
    "#     \"function\": {\n",
    "#         \"name\": \"save_missing_candles_from_ticks\",\n",
    "#         \"parameters\": {\n",
    "#             \"dynamo_table\": \"mercury-pipeline-metaapi-ControllerTable-15QM09J0Q9TVL\",\n",
    "#             \"batch_id\": batches[0][0],\n",
    "#         }\n",
    "#     }\n",
    "# }, None)"
   ]
  },
  {
   "cell_type": "code",
   "execution_count": null,
   "id": "999efa49-3cc0-4cbd-adef-6adb41c74ef4",
   "metadata": {},
   "outputs": [],
   "source": [
    "# batches = app.lambda_handler({\n",
    "#     \"function\": {\n",
    "#         \"name\": \"find_missing_candles\",\n",
    "#         \"parameters\": {\n",
    "#             \"month\": months[0],\n",
    "#             \"batch_size\": 3,\n",
    "#             \"dynamo_table\": \"mercury-pipeline-metaapi-ControllerTable-15QM09J0Q9TVL\",\n",
    "#             \"name_dataset_in\": \"from_ticks\",\n",
    "#             \"name_dataset_out\": \"ffill\",\n",
    "#             \"function_names\": [\"ffill\"],\n",
    "#         }\n",
    "#     }\n",
    "# }, None)"
   ]
  },
  {
   "cell_type": "code",
   "execution_count": 7,
   "id": "58030496-bc8d-4b32-b314-f621be70c756",
   "metadata": {},
   "outputs": [
    {
     "data": {
      "text/plain": [
       "True"
      ]
     },
     "execution_count": 12,
     "metadata": {},
     "output_type": "execute_result"
    }
   ],
   "source": [
    "# app.lambda_handler({\n",
    "#     \"function\": {\n",
    "#         \"name\": \"save_missing_candles\",\n",
    "#         \"parameters\": {\n",
    "#             \"dynamo_table\": \"mercury-pipeline-metaapi-ControllerTable-15QM09J0Q9TVL\",\n",
    "#             \"batch_id\": batches[0][0],\n",
    "#         }\n",
    "#     }\n",
    "# }, None)"
   ]
  },
  {
   "cell_type": "code",
   "execution_count": null,
   "id": "966b414b-c2ea-4e2b-8718-e1e6444f0903",
   "metadata": {},
   "outputs": [],
   "source": []
  },
  {
   "cell_type": "code",
   "execution_count": null,
   "id": "41973c4e-7675-4d0e-9e48-f402ed1ca85b",
   "metadata": {},
   "outputs": [],
   "source": []
  },
  {
   "cell_type": "code",
   "execution_count": null,
   "id": "0a30ee0f-3026-4464-a4ea-65d435c16850",
   "metadata": {},
   "outputs": [],
   "source": [
    "# item_ids = (\n",
    "#     wr.dynamodb\n",
    "#     .get_table(\"mercury-pipeline-metaapi-ControllerTable-15QM09J0Q9TVL\")\n",
    "#     .scan(AttributesToGet=[\"id\",])[\"Items\"]\n",
    "# )\n",
    "# wr.dynamodb.delete_items(item_ids, \"mercury-pipeline-metaapi-ControllerTable-15QM09J0Q9TVL\")"
   ]
  }
 ],
 "metadata": {
  "kernelspec": {
   "display_name": "Python 3 (ipykernel)",
   "language": "python",
   "name": "python3"
  },
  "language_info": {
   "codemirror_mode": {
    "name": "ipython",
    "version": 3
   },
   "file_extension": ".py",
   "mimetype": "text/x-python",
   "name": "python",
   "nbconvert_exporter": "python",
   "pygments_lexer": "ipython3",
   "version": "3.9.12"
  }
 },
 "nbformat": 4,
 "nbformat_minor": 5
}
