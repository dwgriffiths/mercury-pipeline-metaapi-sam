{
 "cells": [
  {
   "cell_type": "code",
   "execution_count": 1,
   "id": "e7fd68f0-a1e8-4f16-a6f1-8898e37770a5",
   "metadata": {},
   "outputs": [],
   "source": [
    "import awswrangler as wr\n",
    "from datetime import datetime, timedelta\n",
    "import numpy as np\n",
    "import os\n",
    "import sys"
   ]
  },
  {
   "cell_type": "code",
   "execution_count": 2,
   "id": "60da779f-9b5f-4caa-a4c8-0ee1498051e1",
   "metadata": {},
   "outputs": [],
   "source": [
    "repo_name = \"mercury-pipeline-metaapi-sam\"\n",
    "sys.path.append(os.getcwd().split(repo_name)[0] + repo_name + \"/lambda\") "
   ]
  },
  {
   "cell_type": "code",
   "execution_count": 6,
   "id": "2dbb67e8-67a2-4149-9b48-5557287e9bbf",
   "metadata": {},
   "outputs": [],
   "source": [
    "import app"
   ]
  },
  {
   "cell_type": "code",
   "execution_count": null,
   "id": "dcc4745f-b18b-4cd9-96b4-cbce01cf4580",
   "metadata": {},
   "outputs": [
    {
     "data": {
      "text/plain": [
       "'202207'"
      ]
     },
     "execution_count": 4,
     "metadata": {},
     "output_type": "execute_result"
    }
   ],
   "source": [
    "months = app.lambda_handler({\n",
    "    \"function\": {\n",
    "        \"name\": \"get_months\",\n",
    "        \"parameters\": {\n",
    "        }\n",
    "    }\n",
    "}, None)\n",
    "months[0]"
   ]
  },
  {
   "cell_type": "code",
   "execution_count": null,
   "id": "fb1b1933-3699-4854-a056-e84f666adbfc",
   "metadata": {},
   "outputs": [],
   "source": [
    "# batches = app.lambda_handler({\n",
    "#     \"function\": {\n",
    "#         \"name\": \"find_missing_raw_ticks\",\n",
    "#         \"parameters\": {\n",
    "#             \"month\": months[-1],\n",
    "#             \"batch_size\": 12,\n",
    "#             \"dynamo_table\": \"mercury-pipeline-metaapi-ControllerTable-15QM09J0Q9TVL\"\n",
    "#         }\n",
    "#     }\n",
    "# }, None)"
   ]
  },
  {
   "cell_type": "code",
   "execution_count": null,
   "id": "09ea9765-13ea-4169-b497-87f04b49a3bd",
   "metadata": {},
   "outputs": [],
   "source": [
    "# app.lambda_handler({\n",
    "#     \"function\": {\n",
    "#         \"name\": \"save_missing_raw_ticks\",\n",
    "#         \"parameters\": {\n",
    "#             \"dynamo_table\": \"mercury-pipeline-metaapi-ControllerTable-15QM09J0Q9TVL\",\n",
    "#             \"batch_id\": batches[0][0],\n",
    "#         }\n",
    "#     }\n",
    "# }, None)"
   ]
  },
  {
   "cell_type": "code",
   "execution_count": null,
   "id": "e7243bb9-d93f-4dac-bd30-6d9549b7e6b4",
   "metadata": {},
   "outputs": [],
   "source": [
    "# batches = app.lambda_handler({\n",
    "#     \"function\": {\n",
    "#         \"name\": \"find_missing_clean_ticks\",\n",
    "#         \"parameters\": {\n",
    "#             \"month\": months[0],\n",
    "#             \"batch_size\": 3,\n",
    "#             \"dynamo_table\": \"mercury-pipeline-metaapi-ControllerTable-15QM09J0Q9TVL\"\n",
    "#         }\n",
    "#     }\n",
    "# }, None)"
   ]
  },
  {
   "cell_type": "code",
   "execution_count": null,
   "id": "3b429b56-69f9-4f95-88ac-d3906973f028",
   "metadata": {},
   "outputs": [],
   "source": [
    "# app.lambda_handler({\n",
    "#     \"function\": {\n",
    "#         \"name\": \"save_missing_clean_ticks\",\n",
    "#         \"parameters\": {\n",
    "#             \"dynamo_table\": \"mercury-pipeline-metaapi-ControllerTable-15QM09J0Q9TVL\",\n",
    "#             \"batch_id\": batches[0][0],\n",
    "#         }\n",
    "#     }\n",
    "# }, None)"
   ]
  },
  {
   "cell_type": "code",
   "execution_count": null,
   "id": "527be184-7693-400b-9563-6686a1300a56",
   "metadata": {},
   "outputs": [],
   "source": [
    "# batches = app.lambda_handler({\n",
    "#     \"function\": {\n",
    "#         \"name\": \"find_missing_candles_from_ticks\",\n",
    "#         \"parameters\": {\n",
    "#             \"month\": months[0],\n",
    "#             \"batch_size\": 3,\n",
    "#             \"dynamo_table\": \"mercury-pipeline-metaapi-ControllerTable-15QM09J0Q9TVL\"\n",
    "#         }\n",
    "#     }\n",
    "# }, None)"
   ]
  },
  {
   "cell_type": "code",
   "execution_count": null,
   "id": "9036c345-8897-4969-8f2f-1cf2a5602e27",
   "metadata": {},
   "outputs": [],
   "source": [
    "# app.lambda_handler({\n",
    "#     \"function\": {\n",
    "#         \"name\": \"save_missing_candles_from_ticks\",\n",
    "#         \"parameters\": {\n",
    "#             \"dynamo_table\": \"mercury-pipeline-metaapi-ControllerTable-15QM09J0Q9TVL\",\n",
    "#             \"batch_id\": batches[0][0],\n",
    "#         }\n",
    "#     }\n",
    "# }, None)"
   ]
  },
  {
   "cell_type": "code",
   "execution_count": null,
   "id": "999efa49-3cc0-4cbd-adef-6adb41c74ef4",
   "metadata": {},
   "outputs": [],
   "source": [
    "# batches = app.lambda_handler({\n",
    "#     \"function\": {\n",
    "#         \"name\": \"find_missing_candles\",\n",
    "#         \"parameters\": {\n",
    "#             \"month\": months[0],\n",
    "#             \"batch_size\": 3,\n",
    "#             \"dynamo_table\": \"mercury-pipeline-metaapi-ControllerTable-15QM09J0Q9TVL\",\n",
    "#             \"name_dataset_in\": \"from_ticks\",\n",
    "#             \"name_dataset_out\": \"ffill\",\n",
    "#             \"function_names\": [\"ffill\"],\n",
    "#         }\n",
    "#     }\n",
    "# }, None)"
   ]
  },
  {
   "cell_type": "code",
   "execution_count": 7,
   "id": "58030496-bc8d-4b32-b314-f621be70c756",
   "metadata": {},
   "outputs": [
    {
     "data": {
      "text/plain": [
       "True"
      ]
     },
     "execution_count": 12,
     "metadata": {},
     "output_type": "execute_result"
    }
   ],
   "source": [
    "# app.lambda_handler({\n",
    "#     \"function\": {\n",
    "#         \"name\": \"save_missing_candles\",\n",
    "#         \"parameters\": {\n",
    "#             \"dynamo_table\": \"mercury-pipeline-metaapi-ControllerTable-15QM09J0Q9TVL\",\n",
    "#             \"batch_id\": batches[0][0],\n",
    "#         }\n",
    "#     }\n",
    "# }, None)"
   ]
  },
  {
   "cell_type": "code",
   "execution_count": null,
   "id": "966b414b-c2ea-4e2b-8718-e1e6444f0903",
   "metadata": {},
   "outputs": [],
   "source": []
  },
  {
   "cell_type": "code",
   "execution_count": null,
   "id": "41973c4e-7675-4d0e-9e48-f402ed1ca85b",
   "metadata": {},
   "outputs": [],
   "source": []
  },
  {
   "cell_type": "code",
   "execution_count": null,
   "id": "0a30ee0f-3026-4464-a4ea-65d435c16850",
   "metadata": {},
   "outputs": [],
   "source": [
    "# item_ids = (\n",
    "#     wr.dynamodb\n",
    "#     .get_table(\"mercury-pipeline-metaapi-ControllerTable-15QM09J0Q9TVL\")\n",
    "#     .scan(AttributesToGet=[\"id\",])[\"Items\"]\n",
    "# )\n",
    "# wr.dynamodb.delete_items(item_ids, \"mercury-pipeline-metaapi-ControllerTable-15QM09J0Q9TVL\")"
   ]
  },
  {
   "cell_type": "code",
   "execution_count": null,
   "id": "1836f8d4-7646-42fd-aeb4-caaec22f4ccb",
   "metadata": {},
   "outputs": [
    {
     "ename": "AssertionError",
     "evalue": "",
     "output_type": "error",
     "traceback": [
      "\u001b[1;31m---------------------------------------------------------------------------\u001b[0m",
      "\u001b[1;31mAssertionError\u001b[0m                            Traceback (most recent call last)",
      "Input \u001b[1;32mIn [14]\u001b[0m, in \u001b[0;36m<cell line: 1>\u001b[1;34m()\u001b[0m\n\u001b[1;32m----> 1\u001b[0m \u001b[38;5;28;01massert\u001b[39;00m \u001b[38;5;28;01mFalse\u001b[39;00m\n",
      "\u001b[1;31mAssertionError\u001b[0m: "
     ]
    }
   ],
   "source": [
    "assert False"
   ]
  },
  {
   "cell_type": "code",
   "execution_count": null,
   "id": "98ef5b0d-7893-4044-963d-4c02643b8af6",
   "metadata": {},
   "outputs": [],
   "source": [
    "from src.config import *\n",
    "from src.io import *\n",
    "from src.utils import *"
   ]
  },
  {
   "cell_type": "code",
   "execution_count": null,
   "id": "f72ca4bf-705f-497e-a87c-bbe285078376",
   "metadata": {},
   "outputs": [],
   "source": [
    "result = lambda_handler({\"function\": \"setup_save_raw_ticks\", \"stop\":False}, None)\n",
    "result[0][0]"
   ]
  },
  {
   "cell_type": "code",
   "execution_count": null,
   "id": "a579e0a6-ef3d-4c3d-bbe9-2b3120288df7",
   "metadata": {},
   "outputs": [],
   "source": [
    "# await process_batch_async(save_raw_ticks, batch_id=result[0][0])"
   ]
  },
  {
   "cell_type": "code",
   "execution_count": null,
   "id": "74e27745-73bb-4043-b0a6-b7933030ee28",
   "metadata": {},
   "outputs": [],
   "source": [
    "# lambda_handler({\"function\": \"save_raw_ticks\", \"batch_id\":result[0][0]}, None)"
   ]
  },
  {
   "cell_type": "code",
   "execution_count": null,
   "id": "8b1fc13c-d8f6-4c88-a711-b302bb0f610f",
   "metadata": {},
   "outputs": [],
   "source": [
    "result = lambda_handler({\"function\": \"setup_save_clean_ticks\"},  None)\n",
    "result[0][0]"
   ]
  },
  {
   "cell_type": "code",
   "execution_count": null,
   "id": "022a39b8-2d13-48ed-a926-8397547c30be",
   "metadata": {},
   "outputs": [],
   "source": [
    "# lambda_handler({\"function\": \"save_clean_ticks\", \"batch_id\":result[0][0]}, None)"
   ]
  },
  {
   "cell_type": "code",
   "execution_count": null,
   "id": "f3ecc927-c146-4708-92fa-7df443cddb14",
   "metadata": {},
   "outputs": [],
   "source": [
    "result = lambda_handler({\"function\": \"setup_save_candles_from_ticks\"},  None)\n",
    "result[0]"
   ]
  },
  {
   "cell_type": "code",
   "execution_count": null,
   "id": "64a61d4d-4286-4696-87c9-ef6075f24ec8",
   "metadata": {},
   "outputs": [],
   "source": [
    "# lambda_handler({\"function\": \"save_candles_from_ticks\", \"batch_id\":result[0][0]},  None)"
   ]
  },
  {
   "cell_type": "code",
   "execution_count": null,
   "id": "d4f9509d-6bd5-4360-b946-5cc8a8dea86d",
   "metadata": {},
   "outputs": [],
   "source": [
    "result = lambda_handler(\n",
    "    {\n",
    "        \"function\": \"setup_save_candles_transformed\",\n",
    "        \"name_dataset_in\": \"from_ticks\",\n",
    "        \"name_dataset_out\": \"ffill\",\n",
    "        \"function_names\": [\"ffill\"],\n",
    "    },\n",
    "    None\n",
    ")\n",
    "result[0][0]"
   ]
  },
  {
   "cell_type": "code",
   "execution_count": null,
   "id": "3bb23199-e06a-4642-a7ab-8d6ae4937c46",
   "metadata": {},
   "outputs": [],
   "source": [
    "%%time\n",
    "lambda_handler({\"function\": \"save_candles_transformed\", \"batch_id\":result[0].pop()},  None)"
   ]
  },
  {
   "cell_type": "code",
   "execution_count": null,
   "id": "d27455e2-ed2b-45a3-aa20-f9bbd726add2",
   "metadata": {},
   "outputs": [],
   "source": [
    "table = wr.dynamodb.get_table(TABLE_PIPELINE)\n",
    "batch = table.get_item(Key={\"id\":0})[\"Item\"]"
   ]
  },
  {
   "cell_type": "code",
   "execution_count": null,
   "id": "7324b8bf-3c23-45e2-8f15-2d2eadb6cba1",
   "metadata": {},
   "outputs": [],
   "source": [
    "batch[\"batch\"][0]"
   ]
  },
  {
   "cell_type": "code",
   "execution_count": null,
   "id": "8f6cf897-24ac-4ccf-9375-a9f239f4767e",
   "metadata": {},
   "outputs": [],
   "source": [
    "parameters_in = get_parameters_from_key(batch[\"batch\"][0][\"prefix_in\"])\n",
    "parameters_lookback = get_parameters_from_key(batch[\"batch\"][0][\"prefix_lookback\"])"
   ]
  },
  {
   "cell_type": "code",
   "execution_count": null,
   "id": "cdb6a10f-3e3a-477d-88d2-99b6c594d0e8",
   "metadata": {},
   "outputs": [],
   "source": [
    "name_dataset_in = batch[\"batch\"][0][\"prefix_in\"].split(\"/candles/\")[-1].split(\"/\")[0]\n",
    "name_dataset_in"
   ]
  },
  {
   "cell_type": "code",
   "execution_count": null,
   "id": "92c43ecf-93be-48e2-afac-f799bf48b384",
   "metadata": {},
   "outputs": [],
   "source": [
    "parameters_in"
   ]
  },
  {
   "cell_type": "code",
   "execution_count": null,
   "id": "1498bc71-943e-48d1-96c3-eac3533c2d70",
   "metadata": {},
   "outputs": [],
   "source": [
    "parameters_lookback"
   ]
  },
  {
   "cell_type": "code",
   "execution_count": null,
   "id": "19462b8d-a1b4-4525-afb8-6e4ab39d3ce1",
   "metadata": {},
   "outputs": [],
   "source": [
    "datetime_in = datetime.strptime(\n",
    "    parameters_in[\"date\"] + parameters_in[\"hour\"], \n",
    "    \"%Y%m%d%H\"\n",
    ")\n",
    "datetime_lookback = datetime.strptime(\n",
    "    parameters_lookback[\"date\"] + parameters_lookback[\"hour\"], \n",
    "    \"%Y%m%d%H\"\n",
    ")\n",
    "datetime_in, datetime_lookback"
   ]
  },
  {
   "cell_type": "code",
   "execution_count": null,
   "id": "f8c3c4ef-f5d0-4e83-910b-6b35a95e2490",
   "metadata": {},
   "outputs": [],
   "source": [
    "n_hours = int((datetime_in - datetime_lookback).total_seconds() / 3600) + 1\n",
    "n_hours"
   ]
  },
  {
   "cell_type": "code",
   "execution_count": null,
   "id": "b427cc90-b1c5-44e4-a792-2d6f6f58b8b5",
   "metadata": {},
   "outputs": [],
   "source": [
    "hours = [datetime_lookback + timedelta(hours=i) for i in range(n_hours)]\n",
    "hours"
   ]
  },
  {
   "cell_type": "code",
   "execution_count": null,
   "id": "233011b8-59ba-4c2d-83cf-4bbf42750935",
   "metadata": {},
   "outputs": [],
   "source": [
    "keys = [\n",
    "    f\"s3://{BUCKET}/{DIR_CANDLES_ROOT}/\" + \"/\".join([\n",
    "        name_dataset_in,\n",
    "        f\"symbol={parameters_in['symbol']}\",\n",
    "        f\"frequency={parameters_in['frequency']}\",\n",
    "        f\"year={dt.strftime('%Y')}\",\n",
    "        f\"month={dt.strftime('%m')}\",\n",
    "        f\"date={dt.strftime('%Y%m%d')}\",\n",
    "        f\"hour={dt.strftime('%H')}\",\n",
    "        \"\"\n",
    "    ]) for dt in hours\n",
    "]\n",
    "keys"
   ]
  },
  {
   "cell_type": "code",
   "execution_count": null,
   "id": "065a2d39-b841-477e-bfbd-4069ef75d12c",
   "metadata": {},
   "outputs": [],
   "source": [
    "l = []\n",
    "for key in keys:\n",
    "    l.append(wr.s3.read_parquet(key))"
   ]
  },
  {
   "cell_type": "code",
   "execution_count": null,
   "id": "e8f44288-00c7-4b8d-b0a9-095935066105",
   "metadata": {},
   "outputs": [],
   "source": [
    "pd.concat(l)"
   ]
  },
  {
   "cell_type": "code",
   "execution_count": null,
   "id": "57875d62-cffe-439c-88c0-8881cda8c567",
   "metadata": {},
   "outputs": [],
   "source": [
    "wr.s3.list_objects(\"s3://datalake.dgriffiths.io/projects/mercury/data/clean/candles/from_ticks/symbol=EURUSD/frequency=1H/year=2022/month=07/date=20220708/hour=21/\")"
   ]
  },
  {
   "cell_type": "code",
   "execution_count": null,
   "id": "5816ddf7-6049-42c3-933b-616096e85a9f",
   "metadata": {},
   "outputs": [],
   "source": [
    "wr.s3.does_object_exist(\"s3://datalake.dgriffiths.io/projects/mercury/data/clean/candles/from_ticks/symbol=EURUSD/frequency=1H/year=2022/month=07/date=20220707/hour=07\")"
   ]
  },
  {
   "cell_type": "code",
   "execution_count": null,
   "id": "809399ea-f5e2-43ac-a92c-27ab69382e5f",
   "metadata": {},
   "outputs": [],
   "source": [
    "wr.s3.list_objects(\"s3://datalake.dgriffiths.io/projects/mercury/data/clean/candles/from_ticks/symbol=EURUSD/frequency=1H/year=2022/month=07/date=20220707/hour=07\") != []"
   ]
  },
  {
   "cell_type": "code",
   "execution_count": null,
   "id": "e9f6f890-cfa8-46bb-895e-62f358ac1174",
   "metadata": {},
   "outputs": [],
   "source": []
  }
 ],
 "metadata": {
  "kernelspec": {
   "display_name": "Python 3 (ipykernel)",
   "language": "python",
   "name": "python3"
  },
  "language_info": {
   "codemirror_mode": {
    "name": "ipython",
    "version": 3
   },
   "file_extension": ".py",
   "mimetype": "text/x-python",
   "name": "python",
   "nbconvert_exporter": "python",
   "pygments_lexer": "ipython3",
   "version": "3.9.12"
  }
 },
 "nbformat": 4,
 "nbformat_minor": 5
}
