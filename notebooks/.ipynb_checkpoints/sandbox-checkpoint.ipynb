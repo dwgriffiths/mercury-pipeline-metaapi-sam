{
 "cells": [
  {
   "cell_type": "code",
   "execution_count": 1,
   "id": "e7fd68f0-a1e8-4f16-a6f1-8898e37770a5",
   "metadata": {},
   "outputs": [],
   "source": [
    "import awswrangler as wr\n",
    "from datetime import datetime, timedelta\n",
    "import os\n",
    "import sys"
   ]
  },
  {
   "cell_type": "code",
   "execution_count": 2,
   "id": "60da779f-9b5f-4caa-a4c8-0ee1498051e1",
   "metadata": {},
   "outputs": [],
   "source": [
    "repo_name = \"mercury-pipeline-metaapi-sam\"\n",
    "sys.path.append(os.getcwd().split(repo_name)[0] + repo_name + \"/workflow\") "
   ]
  },
  {
   "cell_type": "code",
   "execution_count": 3,
   "id": "98ef5b0d-7893-4044-963d-4c02643b8af6",
   "metadata": {},
   "outputs": [],
   "source": [
    "from src.config import *\n",
    "from src.io import *\n",
    "from src.utils import *"
   ]
  },
  {
   "cell_type": "code",
   "execution_count": 4,
   "id": "2dbb67e8-67a2-4149-9b48-5557287e9bbf",
   "metadata": {},
   "outputs": [],
   "source": [
    "from app import *"
   ]
  },
  {
   "cell_type": "code",
   "execution_count": 5,
   "id": "f72ca4bf-705f-497e-a87c-bbe285078376",
   "metadata": {},
   "outputs": [],
   "source": [
    "# result = lambda_handler({\"function\": \"setup_save_raw_ticks\", \"stop\":False}, None)\n",
    "# result"
   ]
  },
  {
   "cell_type": "code",
   "execution_count": 6,
   "id": "a579e0a6-ef3d-4c3d-bbe9-2b3120288df7",
   "metadata": {},
   "outputs": [],
   "source": [
    "# await process_batch_async(save_raw_ticks, batch_id=3)"
   ]
  },
  {
   "cell_type": "code",
   "execution_count": 7,
   "id": "74e27745-73bb-4043-b0a6-b7933030ee28",
   "metadata": {},
   "outputs": [],
   "source": [
    "# lambda_handler({\"function\": \"save_raw_ticks\", \"batch_id\":result[0]}, None)"
   ]
  },
  {
   "cell_type": "code",
   "execution_count": 8,
   "id": "8b1fc13c-d8f6-4c88-a711-b302bb0f610f",
   "metadata": {},
   "outputs": [],
   "source": [
    "# result = lambda_handler({\"function\": \"setup_save_clean_ticks\"},  None)\n",
    "# result"
   ]
  },
  {
   "cell_type": "code",
   "execution_count": 9,
   "id": "022a39b8-2d13-48ed-a926-8397547c30be",
   "metadata": {},
   "outputs": [],
   "source": [
    "# lambda_handler({\"function\": \"save_clean_ticks\", \"batch_id\":result[0]}, None)"
   ]
  },
  {
   "cell_type": "code",
   "execution_count": 10,
   "id": "f3ecc927-c146-4708-92fa-7df443cddb14",
   "metadata": {},
   "outputs": [],
   "source": [
    "# result = lambda_handler({\"function\": \"setup_save_candles_from_ticks\"},  None)\n",
    "# result"
   ]
  },
  {
   "cell_type": "code",
   "execution_count": 11,
   "id": "64a61d4d-4286-4696-87c9-ef6075f24ec8",
   "metadata": {},
   "outputs": [],
   "source": [
    "# lambda_handler({\"function\": \"save_candles_from_ticks\", \"batch_id\":result[0]},  None)"
   ]
  },
  {
   "cell_type": "code",
   "execution_count": 43,
   "id": "d4f9509d-6bd5-4360-b946-5cc8a8dea86d",
   "metadata": {},
   "outputs": [
    {
     "ename": "AttributeError",
     "evalue": "'NoneType' object has no attribute 'get'",
     "output_type": "error",
     "traceback": [
      "\u001b[1;31m---------------------------------------------------------------------------\u001b[0m",
      "\u001b[1;31mAttributeError\u001b[0m                            Traceback (most recent call last)",
      "Input \u001b[1;32mIn [43]\u001b[0m, in \u001b[0;36m<cell line: 1>\u001b[1;34m()\u001b[0m\n\u001b[1;32m----> 1\u001b[0m result \u001b[38;5;241m=\u001b[39m \u001b[43mlambda_handler\u001b[49m\u001b[43m(\u001b[49m\n\u001b[0;32m      2\u001b[0m \u001b[43m    \u001b[49m\u001b[43m{\u001b[49m\n\u001b[0;32m      3\u001b[0m \u001b[43m        \u001b[49m\u001b[38;5;124;43m\"\u001b[39;49m\u001b[38;5;124;43mfunction\u001b[39;49m\u001b[38;5;124;43m\"\u001b[39;49m\u001b[43m:\u001b[49m\u001b[43m \u001b[49m\u001b[38;5;124;43m\"\u001b[39;49m\u001b[38;5;124;43msetup_save_candles_transformed\u001b[39;49m\u001b[38;5;124;43m\"\u001b[39;49m\u001b[43m,\u001b[49m\n\u001b[0;32m      4\u001b[0m \u001b[43m        \u001b[49m\u001b[38;5;124;43m\"\u001b[39;49m\u001b[38;5;124;43mname_dataset_in\u001b[39;49m\u001b[38;5;124;43m\"\u001b[39;49m\u001b[43m:\u001b[49m\u001b[43m \u001b[49m\u001b[38;5;124;43m\"\u001b[39;49m\u001b[38;5;124;43mfrom_ticks\u001b[39;49m\u001b[38;5;124;43m\"\u001b[39;49m\u001b[43m,\u001b[49m\n\u001b[0;32m      5\u001b[0m \u001b[43m        \u001b[49m\u001b[38;5;124;43m\"\u001b[39;49m\u001b[38;5;124;43mname_dataset_out\u001b[39;49m\u001b[38;5;124;43m\"\u001b[39;49m\u001b[43m:\u001b[49m\u001b[43m \u001b[49m\u001b[38;5;124;43m\"\u001b[39;49m\u001b[38;5;124;43mffill\u001b[39;49m\u001b[38;5;124;43m\"\u001b[39;49m\u001b[43m,\u001b[49m\n\u001b[0;32m      6\u001b[0m \u001b[43m        \u001b[49m\u001b[38;5;124;43m\"\u001b[39;49m\u001b[38;5;124;43mfunction_names\u001b[39;49m\u001b[38;5;124;43m\"\u001b[39;49m\u001b[43m:\u001b[49m\u001b[43m \u001b[49m\u001b[43m[\u001b[49m\u001b[38;5;124;43m\"\u001b[39;49m\u001b[38;5;124;43mffill\u001b[39;49m\u001b[38;5;124;43m\"\u001b[39;49m\u001b[43m]\u001b[49m\n\u001b[0;32m      7\u001b[0m \u001b[43m    \u001b[49m\u001b[43m}\u001b[49m\u001b[43m,\u001b[49m\n\u001b[0;32m      8\u001b[0m \u001b[43m    \u001b[49m\u001b[38;5;28;43;01mNone\u001b[39;49;00m\n\u001b[0;32m      9\u001b[0m \u001b[43m)\u001b[49m\n\u001b[0;32m     10\u001b[0m \u001b[38;5;28mlen\u001b[39m(result)\n",
      "File \u001b[1;32m~\\Documents\\Projects\\forex\\mercury-pipeline-metaapi-sam/workflow\\app.py:58\u001b[0m, in \u001b[0;36mlambda_handler\u001b[1;34m(event, context)\u001b[0m\n\u001b[0;32m     56\u001b[0m     function \u001b[38;5;241m=\u001b[39m functions_setup[function_name][\u001b[38;5;124m\"\u001b[39m\u001b[38;5;124mfunction\u001b[39m\u001b[38;5;124m\"\u001b[39m]\n\u001b[0;32m     57\u001b[0m     kwargs[\u001b[38;5;124m\"\u001b[39m\u001b[38;5;124mis_async\u001b[39m\u001b[38;5;124m\"\u001b[39m] \u001b[38;5;241m=\u001b[39m functions_setup[function_name][\u001b[38;5;124m\"\u001b[39m\u001b[38;5;124mis_async\u001b[39m\u001b[38;5;124m\"\u001b[39m]\n\u001b[1;32m---> 58\u001b[0m     \u001b[38;5;28;01mreturn\u001b[39;00m function(\u001b[38;5;241m*\u001b[39m\u001b[38;5;241m*\u001b[39mkwargs)\n\u001b[0;32m     60\u001b[0m function \u001b[38;5;241m=\u001b[39m functions_process[function_name][\u001b[38;5;124m\"\u001b[39m\u001b[38;5;124mfunction\u001b[39m\u001b[38;5;124m\"\u001b[39m]\n\u001b[0;32m     61\u001b[0m kwargs[\u001b[38;5;124m\"\u001b[39m\u001b[38;5;124mis_async\u001b[39m\u001b[38;5;124m\"\u001b[39m] \u001b[38;5;241m=\u001b[39m functions_process[function_name][\u001b[38;5;124m\"\u001b[39m\u001b[38;5;124mis_async\u001b[39m\u001b[38;5;124m\"\u001b[39m]\n",
      "File \u001b[1;32m~\\Documents\\Projects\\forex\\mercury-pipeline-metaapi-sam/workflow\\src\\candles\\transform\\save.py:44\u001b[0m, in \u001b[0;36msetup_save_candles_transformed\u001b[1;34m(name_dataset_in, name_dataset_out, function_names, overwrite, batch_size, lookback_rows, **kwargs)\u001b[0m\n\u001b[0;32m     35\u001b[0m \u001b[38;5;28;01mdef\u001b[39;00m \u001b[38;5;21msetup_save_candles_transformed\u001b[39m(\n\u001b[0;32m     36\u001b[0m     name_dataset_in: \u001b[38;5;28mstr\u001b[39m,\n\u001b[0;32m     37\u001b[0m     name_dataset_out: \u001b[38;5;28mstr\u001b[39m,\n\u001b[1;32m   (...)\u001b[0m\n\u001b[0;32m     42\u001b[0m     \u001b[38;5;241m*\u001b[39m\u001b[38;5;241m*\u001b[39mkwargs\n\u001b[0;32m     43\u001b[0m ):\n\u001b[1;32m---> 44\u001b[0m     overwrite \u001b[38;5;241m=\u001b[39m \u001b[38;5;28;01mFalse\u001b[39;00m \u001b[38;5;28;01mif\u001b[39;00m \u001b[43moverwrite\u001b[49m\u001b[38;5;241;43m.\u001b[39;49m\u001b[43mget\u001b[49m(\u001b[38;5;124m\"\u001b[39m\u001b[38;5;124moverwrite\u001b[39m\u001b[38;5;124m\"\u001b[39m) \u001b[38;5;129;01mis\u001b[39;00m \u001b[38;5;28;01mNone\u001b[39;00m \u001b[38;5;28;01melse\u001b[39;00m overwrite\u001b[38;5;241m.\u001b[39mget(\u001b[38;5;124m\"\u001b[39m\u001b[38;5;124moverwrite\u001b[39m\u001b[38;5;124m\"\u001b[39m)\n\u001b[0;32m     45\u001b[0m     batch_size \u001b[38;5;241m=\u001b[39m \u001b[38;5;241m12\u001b[39m \u001b[38;5;28;01mif\u001b[39;00m batch_size\u001b[38;5;241m.\u001b[39mget(\u001b[38;5;124m\"\u001b[39m\u001b[38;5;124mbatch_size\u001b[39m\u001b[38;5;124m\"\u001b[39m) \u001b[38;5;129;01mis\u001b[39;00m \u001b[38;5;28;01mNone\u001b[39;00m \u001b[38;5;28;01melse\u001b[39;00m \u001b[38;5;28mmax\u001b[39m(\u001b[38;5;28mmin\u001b[39m(batch_size\u001b[38;5;241m.\u001b[39mget(\u001b[38;5;124m\"\u001b[39m\u001b[38;5;124mbatch_size\u001b[39m\u001b[38;5;124m\"\u001b[39m), \u001b[38;5;241m12\u001b[39m), \u001b[38;5;241m1\u001b[39m)\n\u001b[0;32m     46\u001b[0m     lookback_rows \u001b[38;5;241m=\u001b[39m \u001b[38;5;241m60\u001b[39m \u001b[38;5;28;01mif\u001b[39;00m lookback_rows\u001b[38;5;241m.\u001b[39mget(\u001b[38;5;124m\"\u001b[39m\u001b[38;5;124mlookback_rows\u001b[39m\u001b[38;5;124m\"\u001b[39m) \u001b[38;5;129;01mis\u001b[39;00m \u001b[38;5;28;01mNone\u001b[39;00m \u001b[38;5;28;01melse\u001b[39;00m \u001b[38;5;28mmax\u001b[39m(\u001b[38;5;28mmin\u001b[39m(lookback_rows\u001b[38;5;241m.\u001b[39mget(\u001b[38;5;124m\"\u001b[39m\u001b[38;5;124mbatch_size\u001b[39m\u001b[38;5;124m\"\u001b[39m), \u001b[38;5;241m60\u001b[39m), \u001b[38;5;241m1\u001b[39m)\n",
      "\u001b[1;31mAttributeError\u001b[0m: 'NoneType' object has no attribute 'get'"
     ]
    }
   ],
   "source": [
    "result = lambda_handler(\n",
    "    {\n",
    "        \"function\": \"setup_save_candles_transformed\",\n",
    "        \"name_dataset_in\": \"from_ticks\",\n",
    "        \"name_dataset_out\": \"ffill\",\n",
    "        \"function_names\": [\"ffill\"],\n",
    "        \"overwrite\": {}\n",
    "    },\n",
    "    None\n",
    ")\n",
    "len(result)"
   ]
  },
  {
   "cell_type": "code",
   "execution_count": 13,
   "id": "3bb23199-e06a-4642-a7ab-8d6ae4937c46",
   "metadata": {},
   "outputs": [],
   "source": [
    "# lambda_handler({\"function\": \"save_candles_transformed\", \"batch_id\":result[0]},  None)"
   ]
  },
  {
   "cell_type": "code",
   "execution_count": 23,
   "id": "8642cef6-8ab5-4a55-887c-9f4f8ed5a294",
   "metadata": {},
   "outputs": [
    {
     "name": "stdout",
     "output_type": "stream",
     "text": [
      "CPU times: total: 11min 50s\n",
      "Wall time: 7min 19s\n"
     ]
    }
   ],
   "source": [
    "%%time\n",
    "df = wr.s3.read_parquet(\n",
    "    f\"s3://{BUCKET}/{DIR_CANDLES_ROOT}/ffill/\",\n",
    "    dataset=True,\n",
    "    partition_filter = lambda x: True if all([\n",
    "        x[\"symbol\"] == \"GBPUSD\", x[\"frequency\"] == \"15T\"\n",
    "    ]) else False,\n",
    ")"
   ]
  },
  {
   "cell_type": "code",
   "execution_count": 19,
   "id": "71da84f8-f88e-4451-853a-906e1a1ecb54",
   "metadata": {},
   "outputs": [],
   "source": [
    "import matplotlib.pyplot as plt"
   ]
  },
  {
   "cell_type": "code",
   "execution_count": 21,
   "id": "ea4868cf-48d9-4ec4-8911-516d92d6ffb8",
   "metadata": {},
   "outputs": [
    {
     "data": {
      "text/plain": [
       "[<matplotlib.lines.Line2D at 0x1c12852be80>]"
      ]
     },
     "execution_count": 21,
     "metadata": {},
     "output_type": "execute_result"
    },
    {
     "data": {
      "image/png": "[encoded data removed]",
      "text/plain": [
       "<Figure size 432x288 with 1 Axes>"
      ]
     },
     "metadata": {
      "needs_background": "light"
     },
     "output_type": "display_data"
    }
   ],
   "source": [
    "plt.step(df[\"timestamp_utc.open\"], df[\"ask.close\"])"
   ]
  },
  {
   "cell_type": "code",
   "execution_count": 31,
   "id": "20222627-6455-417b-91eb-a48ee1f2566b",
   "metadata": {},
   "outputs": [],
   "source": [
    "f_filter = lambda x: True if all([\n",
    "    x[\"symbol\"] == \"GBPUSD\",\n",
    "    x[\"frequency\"] == \"15T\",\n",
    "]) else False"
   ]
  },
  {
   "cell_type": "code",
   "execution_count": 33,
   "id": "f8b472c1-0be9-4a5f-80dc-65df39a56e3a",
   "metadata": {},
   "outputs": [],
   "source": [
    "keys = [\n",
    "    x for x in wr.s3.list_objects(\n",
    "        f\"s3://{BUCKET}/{DIR_CANDLES_ROOT}/ffill/\",\n",
    "        suffix=\".parquet\"\n",
    "    ) if f_filter(get_parameters_from_key(x))\n",
    "]"
   ]
  },
  {
   "cell_type": "code",
   "execution_count": 37,
   "id": "c09f45dd-de8a-474d-beaa-3dc0d1d43aa3",
   "metadata": {},
   "outputs": [
    {
     "data": {
      "text/plain": [
       "3193"
      ]
     },
     "execution_count": 37,
     "metadata": {},
     "output_type": "execute_result"
    }
   ],
   "source": [
    "len(keys)"
   ]
  },
  {
   "cell_type": "code",
   "execution_count": 39,
   "id": "3e5b30d1-5421-449a-9027-e70db915d587",
   "metadata": {},
   "outputs": [
    {
     "data": {
      "text/plain": [
       "('s3://datalake.dgriffiths.io/projects/mercury/data/clean/candles/ffill/symbol=GBPUSD/frequency=15T/year=2021/month=12/date=20211227/hour=15/7c8f3bef4c5741ab85629aac6effd22e.snappy.parquet',\n",
       " 's3://datalake.dgriffiths.io/projects/mercury/data/clean/candles/ffill/symbol=GBPUSD/frequency=15T/year=2022/month=07/date=20220701/hour=20/eaf3f4dfab26492cabda5342b22360a4.snappy.parquet')"
      ]
     },
     "execution_count": 39,
     "metadata": {},
     "output_type": "execute_result"
    }
   ],
   "source": [
    "keys[0], keys[-1]"
   ]
  },
  {
   "cell_type": "code",
   "execution_count": 41,
   "id": "e81cf5f8-e778-4858-b9c0-be6cb473c349",
   "metadata": {},
   "outputs": [
    {
     "name": "stdout",
     "output_type": "stream",
     "text": [
      "CPU times: total: 4min 50s\n",
      "Wall time: 18min 43s\n"
     ]
    }
   ],
   "source": [
    "%%time\n",
    "dfs = [wr.s3.read_parquet(x) for x in keys]"
   ]
  },
  {
   "cell_type": "code",
   "execution_count": 42,
   "id": "6650cb27-1f11-437d-8fdd-c2b9236a6093",
   "metadata": {},
   "outputs": [
    {
     "name": "stdout",
     "output_type": "stream",
     "text": [
      "CPU times: total: 11min 25s\n",
      "Wall time: 8min 5s\n"
     ]
    },
    {
     "data": {
      "text/html": [
       "<div>\n",
       "<style scoped>\n",
       "    .dataframe tbody tr th:only-of-type {\n",
       "        vertical-align: middle;\n",
       "    }\n",
       "\n",
       "    .dataframe tbody tr th {\n",
       "        vertical-align: top;\n",
       "    }\n",
       "\n",
       "    .dataframe thead th {\n",
       "        text-align: right;\n",
       "    }\n",
       "</style>\n",
       "<table border=\"1\" class=\"dataframe\">\n",
       "  <thead>\n",
       "    <tr style=\"text-align: right;\">\n",
       "      <th></th>\n",
       "      <th>timestamp_utc.open</th>\n",
       "      <th>ask.open</th>\n",
       "      <th>ask.close</th>\n",
       "      <th>ask.low</th>\n",
       "      <th>ask.high</th>\n",
       "      <th>n_ticks</th>\n",
       "      <th>bid.open</th>\n",
       "      <th>bid.close</th>\n",
       "      <th>bid.low</th>\n",
       "      <th>bid.high</th>\n",
       "      <th>ask.idx_hi_lo</th>\n",
       "      <th>bid.idx_hi_lo</th>\n",
       "      <th>timestamp_utc.close</th>\n",
       "      <th>timestamp_uk.open</th>\n",
       "      <th>timestamp_uk.close</th>\n",
       "    </tr>\n",
       "  </thead>\n",
       "  <tbody>\n",
       "    <tr>\n",
       "      <th>0</th>\n",
       "      <td>2021-12-27 15:00:00</td>\n",
       "      <td>1.34252</td>\n",
       "      <td>1.34299</td>\n",
       "      <td>1.34249</td>\n",
       "      <td>1.34304</td>\n",
       "      <td>450</td>\n",
       "      <td>1.34238</td>\n",
       "      <td>1.34285</td>\n",
       "      <td>1.34235</td>\n",
       "      <td>1.34289</td>\n",
       "      <td>lo</td>\n",
       "      <td>lo</td>\n",
       "      <td>2021-12-27 15:15:00</td>\n",
       "      <td>2021-12-27 15:00:00</td>\n",
       "      <td>2021-12-27 15:15:00</td>\n",
       "    </tr>\n",
       "    <tr>\n",
       "      <th>1</th>\n",
       "      <td>2021-12-27 15:15:00</td>\n",
       "      <td>1.34295</td>\n",
       "      <td>1.34187</td>\n",
       "      <td>1.34187</td>\n",
       "      <td>1.34295</td>\n",
       "      <td>549</td>\n",
       "      <td>1.34285</td>\n",
       "      <td>1.34168</td>\n",
       "      <td>1.34168</td>\n",
       "      <td>1.34285</td>\n",
       "      <td>hi</td>\n",
       "      <td>hi</td>\n",
       "      <td>2021-12-27 15:30:00</td>\n",
       "      <td>2021-12-27 15:15:00</td>\n",
       "      <td>2021-12-27 15:30:00</td>\n",
       "    </tr>\n",
       "    <tr>\n",
       "      <th>2</th>\n",
       "      <td>2021-12-27 15:30:00</td>\n",
       "      <td>1.34186</td>\n",
       "      <td>1.34211</td>\n",
       "      <td>1.34174</td>\n",
       "      <td>1.34256</td>\n",
       "      <td>553</td>\n",
       "      <td>1.34168</td>\n",
       "      <td>1.34196</td>\n",
       "      <td>1.34155</td>\n",
       "      <td>1.34237</td>\n",
       "      <td>lo</td>\n",
       "      <td>lo</td>\n",
       "      <td>2021-12-27 15:45:00</td>\n",
       "      <td>2021-12-27 15:30:00</td>\n",
       "      <td>2021-12-27 15:45:00</td>\n",
       "    </tr>\n",
       "    <tr>\n",
       "      <th>3</th>\n",
       "      <td>2021-12-27 15:45:00</td>\n",
       "      <td>1.34212</td>\n",
       "      <td>1.34171</td>\n",
       "      <td>1.34090</td>\n",
       "      <td>1.34228</td>\n",
       "      <td>744</td>\n",
       "      <td>1.34196</td>\n",
       "      <td>1.34155</td>\n",
       "      <td>1.34076</td>\n",
       "      <td>1.34214</td>\n",
       "      <td>hi</td>\n",
       "      <td>hi</td>\n",
       "      <td>2021-12-27 16:00:00</td>\n",
       "      <td>2021-12-27 15:45:00</td>\n",
       "      <td>2021-12-27 16:00:00</td>\n",
       "    </tr>\n",
       "    <tr>\n",
       "      <th>4</th>\n",
       "      <td>2021-12-27 16:00:00</td>\n",
       "      <td>1.34168</td>\n",
       "      <td>1.34264</td>\n",
       "      <td>1.34156</td>\n",
       "      <td>1.34306</td>\n",
       "      <td>612</td>\n",
       "      <td>1.34155</td>\n",
       "      <td>1.34250</td>\n",
       "      <td>1.34140</td>\n",
       "      <td>1.34291</td>\n",
       "      <td>lo</td>\n",
       "      <td>lo</td>\n",
       "      <td>2021-12-27 16:15:00</td>\n",
       "      <td>2021-12-27 16:00:00</td>\n",
       "      <td>2021-12-27 16:15:00</td>\n",
       "    </tr>\n",
       "    <tr>\n",
       "      <th>...</th>\n",
       "      <td>...</td>\n",
       "      <td>...</td>\n",
       "      <td>...</td>\n",
       "      <td>...</td>\n",
       "      <td>...</td>\n",
       "      <td>...</td>\n",
       "      <td>...</td>\n",
       "      <td>...</td>\n",
       "      <td>...</td>\n",
       "      <td>...</td>\n",
       "      <td>...</td>\n",
       "      <td>...</td>\n",
       "      <td>...</td>\n",
       "      <td>...</td>\n",
       "      <td>...</td>\n",
       "    </tr>\n",
       "    <tr>\n",
       "      <th>12767</th>\n",
       "      <td>2022-07-01 19:45:00</td>\n",
       "      <td>1.20996</td>\n",
       "      <td>1.20975</td>\n",
       "      <td>1.20922</td>\n",
       "      <td>1.21007</td>\n",
       "      <td>1058</td>\n",
       "      <td>1.20986</td>\n",
       "      <td>1.20963</td>\n",
       "      <td>1.20910</td>\n",
       "      <td>1.20995</td>\n",
       "      <td>hi</td>\n",
       "      <td>hi</td>\n",
       "      <td>2022-07-01 20:00:00</td>\n",
       "      <td>2022-07-01 20:45:00</td>\n",
       "      <td>2022-07-01 21:00:00</td>\n",
       "    </tr>\n",
       "    <tr>\n",
       "      <th>12768</th>\n",
       "      <td>2022-07-01 20:00:00</td>\n",
       "      <td>1.20977</td>\n",
       "      <td>1.20991</td>\n",
       "      <td>1.20962</td>\n",
       "      <td>1.21004</td>\n",
       "      <td>420</td>\n",
       "      <td>1.20963</td>\n",
       "      <td>1.20979</td>\n",
       "      <td>1.20949</td>\n",
       "      <td>1.20990</td>\n",
       "      <td>hi</td>\n",
       "      <td>hi</td>\n",
       "      <td>2022-07-01 20:15:00</td>\n",
       "      <td>2022-07-01 21:00:00</td>\n",
       "      <td>2022-07-01 21:15:00</td>\n",
       "    </tr>\n",
       "    <tr>\n",
       "      <th>12769</th>\n",
       "      <td>2022-07-01 20:15:00</td>\n",
       "      <td>1.20990</td>\n",
       "      <td>1.20996</td>\n",
       "      <td>1.20982</td>\n",
       "      <td>1.21011</td>\n",
       "      <td>99</td>\n",
       "      <td>1.20979</td>\n",
       "      <td>1.20984</td>\n",
       "      <td>1.20970</td>\n",
       "      <td>1.20999</td>\n",
       "      <td>lo</td>\n",
       "      <td>lo</td>\n",
       "      <td>2022-07-01 20:30:00</td>\n",
       "      <td>2022-07-01 21:15:00</td>\n",
       "      <td>2022-07-01 21:30:00</td>\n",
       "    </tr>\n",
       "    <tr>\n",
       "      <th>12770</th>\n",
       "      <td>2022-07-01 20:30:00</td>\n",
       "      <td>1.20995</td>\n",
       "      <td>1.20967</td>\n",
       "      <td>1.20957</td>\n",
       "      <td>1.21021</td>\n",
       "      <td>128</td>\n",
       "      <td>1.20984</td>\n",
       "      <td>1.20955</td>\n",
       "      <td>1.20944</td>\n",
       "      <td>1.21009</td>\n",
       "      <td>hi</td>\n",
       "      <td>hi</td>\n",
       "      <td>2022-07-01 20:45:00</td>\n",
       "      <td>2022-07-01 21:30:00</td>\n",
       "      <td>2022-07-01 21:45:00</td>\n",
       "    </tr>\n",
       "    <tr>\n",
       "      <th>12771</th>\n",
       "      <td>2022-07-01 20:45:00</td>\n",
       "      <td>1.20968</td>\n",
       "      <td>1.20966</td>\n",
       "      <td>1.20915</td>\n",
       "      <td>1.21036</td>\n",
       "      <td>656</td>\n",
       "      <td>1.20956</td>\n",
       "      <td>1.20952</td>\n",
       "      <td>1.20817</td>\n",
       "      <td>1.21022</td>\n",
       "      <td>lo</td>\n",
       "      <td>lo</td>\n",
       "      <td>2022-07-01 21:00:00</td>\n",
       "      <td>2022-07-01 21:45:00</td>\n",
       "      <td>2022-07-01 22:00:00</td>\n",
       "    </tr>\n",
       "  </tbody>\n",
       "</table>\n",
       "<p>12772 rows × 15 columns</p>\n",
       "</div>"
      ],
      "text/plain": [
       "       timestamp_utc.open  ask.open  ask.close  ask.low  ask.high  n_ticks  \\\n",
       "0     2021-12-27 15:00:00   1.34252    1.34299  1.34249   1.34304      450   \n",
       "1     2021-12-27 15:15:00   1.34295    1.34187  1.34187   1.34295      549   \n",
       "2     2021-12-27 15:30:00   1.34186    1.34211  1.34174   1.34256      553   \n",
       "3     2021-12-27 15:45:00   1.34212    1.34171  1.34090   1.34228      744   \n",
       "4     2021-12-27 16:00:00   1.34168    1.34264  1.34156   1.34306      612   \n",
       "...                   ...       ...        ...      ...       ...      ...   \n",
       "12767 2022-07-01 19:45:00   1.20996    1.20975  1.20922   1.21007     1058   \n",
       "12768 2022-07-01 20:00:00   1.20977    1.20991  1.20962   1.21004      420   \n",
       "12769 2022-07-01 20:15:00   1.20990    1.20996  1.20982   1.21011       99   \n",
       "12770 2022-07-01 20:30:00   1.20995    1.20967  1.20957   1.21021      128   \n",
       "12771 2022-07-01 20:45:00   1.20968    1.20966  1.20915   1.21036      656   \n",
       "\n",
       "       bid.open  bid.close  bid.low  bid.high ask.idx_hi_lo bid.idx_hi_lo  \\\n",
       "0       1.34238    1.34285  1.34235   1.34289            lo            lo   \n",
       "1       1.34285    1.34168  1.34168   1.34285            hi            hi   \n",
       "2       1.34168    1.34196  1.34155   1.34237            lo            lo   \n",
       "3       1.34196    1.34155  1.34076   1.34214            hi            hi   \n",
       "4       1.34155    1.34250  1.34140   1.34291            lo            lo   \n",
       "...         ...        ...      ...       ...           ...           ...   \n",
       "12767   1.20986    1.20963  1.20910   1.20995            hi            hi   \n",
       "12768   1.20963    1.20979  1.20949   1.20990            hi            hi   \n",
       "12769   1.20979    1.20984  1.20970   1.20999            lo            lo   \n",
       "12770   1.20984    1.20955  1.20944   1.21009            hi            hi   \n",
       "12771   1.20956    1.20952  1.20817   1.21022            lo            lo   \n",
       "\n",
       "      timestamp_utc.close   timestamp_uk.open  timestamp_uk.close  \n",
       "0     2021-12-27 15:15:00 2021-12-27 15:00:00 2021-12-27 15:15:00  \n",
       "1     2021-12-27 15:30:00 2021-12-27 15:15:00 2021-12-27 15:30:00  \n",
       "2     2021-12-27 15:45:00 2021-12-27 15:30:00 2021-12-27 15:45:00  \n",
       "3     2021-12-27 16:00:00 2021-12-27 15:45:00 2021-12-27 16:00:00  \n",
       "4     2021-12-27 16:15:00 2021-12-27 16:00:00 2021-12-27 16:15:00  \n",
       "...                   ...                 ...                 ...  \n",
       "12767 2022-07-01 20:00:00 2022-07-01 20:45:00 2022-07-01 21:00:00  \n",
       "12768 2022-07-01 20:15:00 2022-07-01 21:00:00 2022-07-01 21:15:00  \n",
       "12769 2022-07-01 20:30:00 2022-07-01 21:15:00 2022-07-01 21:30:00  \n",
       "12770 2022-07-01 20:45:00 2022-07-01 21:30:00 2022-07-01 21:45:00  \n",
       "12771 2022-07-01 21:00:00 2022-07-01 21:45:00 2022-07-01 22:00:00  \n",
       "\n",
       "[12772 rows x 15 columns]"
      ]
     },
     "execution_count": 42,
     "metadata": {},
     "output_type": "execute_result"
    }
   ],
   "source": [
    "%%time\n",
    "wr.s3.read_parquet(keys)"
   ]
  },
  {
   "cell_type": "code",
   "execution_count": null,
   "id": "88d3c1d2-9f06-48fd-ba8f-55c209c8f4c0",
   "metadata": {},
   "outputs": [],
   "source": [
    "wr.s3.download("
   ]
  }
 ],
 "metadata": {
  "kernelspec": {
   "display_name": "Python 3 (ipykernel)",
   "language": "python",
   "name": "python3"
  },
  "language_info": {
   "codemirror_mode": {
    "name": "ipython",
    "version": 3
   },
   "file_extension": ".py",
   "mimetype": "text/x-python",
   "name": "python",
   "nbconvert_exporter": "python",
   "pygments_lexer": "ipython3",
   "version": "3.9.12"
  }
 },
 "nbformat": 4,
 "nbformat_minor": 5
}
