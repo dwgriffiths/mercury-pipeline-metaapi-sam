{
 "cells": [
  {
   "cell_type": "code",
   "execution_count": 7,
   "id": "e7fd68f0-a1e8-4f16-a6f1-8898e37770a5",
   "metadata": {},
   "outputs": [],
   "source": [
    "import awswrangler as wr\n",
    "from datetime import datetime, timedelta\n",
    "import os\n",
    "import sys"
   ]
  },
  {
   "cell_type": "code",
   "execution_count": 8,
   "id": "60da779f-9b5f-4caa-a4c8-0ee1498051e1",
   "metadata": {},
   "outputs": [],
   "source": [
    "repo_name = \"mercury-pipeline-metaapi-sam\"\n",
    "sys.path.append(os.getcwd().split(repo_name)[0] + repo_name + \"/workflow\") "
   ]
  },
  {
   "cell_type": "code",
   "execution_count": 9,
   "id": "98ef5b0d-7893-4044-963d-4c02643b8af6",
   "metadata": {},
   "outputs": [],
   "source": [
    "from src.config import *\n",
    "from src.io import *\n",
    "from src.utils import *"
   ]
  },
  {
   "cell_type": "code",
   "execution_count": 10,
   "id": "2dbb67e8-67a2-4149-9b48-5557287e9bbf",
   "metadata": {},
   "outputs": [],
   "source": [
    "from app import *"
   ]
  },
  {
   "cell_type": "code",
   "execution_count": 5,
   "id": "f72ca4bf-705f-497e-a87c-bbe285078376",
   "metadata": {},
   "outputs": [],
   "source": [
    "# result = lambda_handler({\"function\": \"setup_save_raw_ticks\", \"kwargs\":{\"stop\":False}}, None)"
   ]
  },
  {
   "cell_type": "code",
   "execution_count": 14,
   "id": "80588f60-f856-4d8a-9494-474734d91283",
   "metadata": {},
   "outputs": [
    {
     "data": {
      "text/plain": [
       "0"
      ]
     },
     "execution_count": 14,
     "metadata": {},
     "output_type": "execute_result"
    }
   ],
   "source": [
    "item_id = 0 # result[0]\n",
    "item_id"
   ]
  },
  {
   "cell_type": "code",
   "execution_count": 20,
   "id": "bd65a52f-e1d1-44ee-b2ab-d1691ad115c6",
   "metadata": {},
   "outputs": [],
   "source": [
    "async def process_item_async(\n",
    "    item_id: int,\n",
    "    func,\n",
    "):\n",
    "    table = wr.dynamodb.get_table(TABLE_PIPELINE)\n",
    "    item = table.get_item(Key={\"id\":item_id})[\"Item\"]\n",
    "    \n",
    "    result = await func(**item)\n",
    "    assert result\n",
    "    \n",
    "    table.delete_item(Key={\"id\":item_id})\n",
    "    return "
   ]
  },
  {
   "cell_type": "code",
   "execution_count": null,
   "id": "0e70b949-38a3-4b1a-8682-511d0194dfbb",
   "metadata": {},
   "outputs": [],
   "source": [
    "def process_item(\n",
    "    item_id: int,\n",
    "    func,\n",
    "    is_async: bool = False\n",
    "):\n",
    "    table = wr.dynamodb.get_table(TABLE_PIPELINE)\n",
    "    item = table.get_item(Key={\"id\":item_id})[\"Item\"]\n",
    "    \n",
    "    if is_async:\n",
    "        loop = asyncio.get_event_loop()\n",
    "        result = loop.run_until_complete(\n",
    "            process_item_async(item_id, func)\n",
    "        )\n",
    "    else:\n",
    "        result = func(**item)\n",
    "    assert result\n",
    "    table.delete_item(Key={\"id\":item_id})\n",
    "    return "
   ]
  },
  {
   "cell_type": "code",
   "execution_count": 22,
   "id": "a579e0a6-ef3d-4c3d-bbe9-2b3120288df7",
   "metadata": {},
   "outputs": [],
   "source": [
    "await process_item(\n",
    "    1,\n",
    "    save_raw_ticks\n",
    ")"
   ]
  },
  {
   "cell_type": "code",
   "execution_count": 12,
   "id": "98ffc226-bd98-4d4e-8287-b0aebd8325bb",
   "metadata": {},
   "outputs": [],
   "source": [
    "table.delete_item("
   ]
  },
  {
   "cell_type": "code",
   "execution_count": 17,
   "id": "74624717-c0ea-4c60-8a74-4cecf4964acf",
   "metadata": {},
   "outputs": [],
   "source": []
  },
  {
   "cell_type": "code",
   "execution_count": 18,
   "id": "2ea76297-554b-4613-a6ae-a8c501fb8e72",
   "metadata": {},
   "outputs": [
    {
     "data": {
      "text/plain": [
       "{'datetimestr_from': '20211229210000000000',\n",
       " 'id': Decimal('0'),\n",
       " 'datetimestr_to': '20211229220000000000',\n",
       " 'symbol': 'GBPUSD'}"
      ]
     },
     "execution_count": 18,
     "metadata": {},
     "output_type": "execute_result"
    }
   ],
   "source": [
    "item"
   ]
  },
  {
   "cell_type": "code",
   "execution_count": 19,
   "id": "72b4ec63-3ec0-4e55-a989-c58a487590d8",
   "metadata": {},
   "outputs": [
    {
     "data": {
      "text/plain": [
       "True"
      ]
     },
     "execution_count": 19,
     "metadata": {},
     "output_type": "execute_result"
    }
   ],
   "source": [
    "await save_raw_ticks(**item)"
   ]
  },
  {
   "cell_type": "code",
   "execution_count": null,
   "id": "94eecd5a-4cd1-41b9-8130-2a2fa51ea47c",
   "metadata": {},
   "outputs": [],
   "source": []
  },
  {
   "cell_type": "code",
   "execution_count": null,
   "id": "c1f3c8ff-2d9e-434e-99e1-304694d73cbe",
   "metadata": {},
   "outputs": [],
   "source": []
  },
  {
   "cell_type": "code",
   "execution_count": null,
   "id": "c5a5be31-7f5c-4e47-b784-479e84073345",
   "metadata": {},
   "outputs": [],
   "source": [
    "# await job_batch_async(\n",
    "#     save_raw_ticks,\n",
    "#     batch\n",
    "# )"
   ]
  },
  {
   "cell_type": "code",
   "execution_count": null,
   "id": "74e27745-73bb-4043-b0a6-b7933030ee28",
   "metadata": {},
   "outputs": [],
   "source": [
    "# lambda_handler({\"function\": \"save_raw_ticks\", \"kwargs\":batch}, None)"
   ]
  },
  {
   "cell_type": "code",
   "execution_count": null,
   "id": "8b1fc13c-d8f6-4c88-a711-b302bb0f610f",
   "metadata": {},
   "outputs": [],
   "source": [
    "# result = lambda_handler({\"function\": \"setup_save_clean_ticks\", \"kwargs\":{\"overwrite\":False}}, None)\n",
    "# batch = result[\"batches\"][0]\n",
    "# item = batch[0]\n",
    "# item"
   ]
  },
  {
   "cell_type": "code",
   "execution_count": null,
   "id": "cf031a70-0601-4baa-af85-d35880134292",
   "metadata": {},
   "outputs": [],
   "source": [
    "# result = lambda_handler({\"function\": \"setup_save_candles_from_ticks\", \"kwargs\":{\"stop\":False}}, None)\n",
    "# batch = result[\"batches\"][0]\n",
    "# item = batch[0]\n",
    "# item"
   ]
  },
  {
   "cell_type": "code",
   "execution_count": null,
   "id": "022a39b8-2d13-48ed-a926-8397547c30be",
   "metadata": {},
   "outputs": [],
   "source": [
    "# lambda_handler({\"function\": \"save_candles_from_ticks\", \"kwargs\":batch}, None) # save_candles_from_ticks(**item)"
   ]
  },
  {
   "cell_type": "code",
   "execution_count": null,
   "id": "353326cc-d0dd-4500-8856-aa0bf3d47872",
   "metadata": {},
   "outputs": [],
   "source": [
    "# result = lambda_handler(\n",
    "#     {\n",
    "#         \"function\": \"setup_save_candles_transformed\",\n",
    "#         \"name_dataset_in\": \"from_ticks\",\n",
    "#         \"name_dataset_out\": \"ffill\",\n",
    "#         \"function_names\": [\"ffill\"],\n",
    "#         \"kwargs\":{\n",
    "#          }\n",
    "#     },\n",
    "#     None\n",
    "# )\n",
    "# print(result[\"n_batches_total\"])\n",
    "# print(result[\"n_batches\"])\n",
    "# batch = result[\"batches\"][0]\n",
    "# item = batch[0]\n",
    "# item"
   ]
  }
 ],
 "metadata": {
  "kernelspec": {
   "display_name": "Python 3 (ipykernel)",
   "language": "python",
   "name": "python3"
  },
  "language_info": {
   "codemirror_mode": {
    "name": "ipython",
    "version": 3
   },
   "file_extension": ".py",
   "mimetype": "text/x-python",
   "name": "python",
   "nbconvert_exporter": "python",
   "pygments_lexer": "ipython3",
   "version": "3.9.12"
  }
 },
 "nbformat": 4,
 "nbformat_minor": 5
}
