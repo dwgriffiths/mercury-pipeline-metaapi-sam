{
 "cells": [
  {
   "cell_type": "code",
   "execution_count": 1,
   "id": "e7fd68f0-a1e8-4f16-a6f1-8898e37770a5",
   "metadata": {},
   "outputs": [],
   "source": [
    "import awswrangler as wr\n",
    "from datetime import datetime, timedelta\n",
    "import numpy as np\n",
    "import os\n",
    "import sys"
   ]
  },
  {
   "cell_type": "code",
   "execution_count": 2,
   "id": "60da779f-9b5f-4caa-a4c8-0ee1498051e1",
   "metadata": {},
   "outputs": [],
   "source": [
    "repo_name = \"mercury-pipeline-metaapi-sam\"\n",
    "sys.path.append(os.getcwd().split(repo_name)[0] + repo_name + \"/lambda\") "
   ]
  },
  {
   "cell_type": "code",
   "execution_count": 3,
   "id": "98ef5b0d-7893-4044-963d-4c02643b8af6",
   "metadata": {},
   "outputs": [],
   "source": [
    "from src.config import *\n",
    "from src.io import *\n",
    "from src.utils import *"
   ]
  },
  {
   "cell_type": "code",
   "execution_count": 4,
   "id": "2dbb67e8-67a2-4149-9b48-5557287e9bbf",
   "metadata": {},
   "outputs": [],
   "source": [
    "from app import *"
   ]
  },
  {
   "cell_type": "code",
   "execution_count": 5,
   "id": "f72ca4bf-705f-497e-a87c-bbe285078376",
   "metadata": {},
   "outputs": [],
   "source": [
    "# result = lambda_handler({\"function\": \"setup_save_raw_ticks\", \"stop\":False}, None)\n",
    "# result"
   ]
  },
  {
   "cell_type": "code",
   "execution_count": 6,
   "id": "a579e0a6-ef3d-4c3d-bbe9-2b3120288df7",
   "metadata": {},
   "outputs": [],
   "source": [
    "# await process_batch_async(save_raw_ticks, batch_id=3)"
   ]
  },
  {
   "cell_type": "code",
   "execution_count": 7,
   "id": "74e27745-73bb-4043-b0a6-b7933030ee28",
   "metadata": {},
   "outputs": [],
   "source": [
    "# lambda_handler({\"function\": \"save_raw_ticks\", \"batch_id\":result[0][0]}, None)"
   ]
  },
  {
   "cell_type": "code",
   "execution_count": 6,
   "id": "8b1fc13c-d8f6-4c88-a711-b302bb0f610f",
   "metadata": {},
   "outputs": [],
   "source": [
    "result = lambda_handler({\"function\": \"setup_save_clean_ticks\"},  None)\n",
    "result"
   ]
  },
  {
   "cell_type": "code",
   "execution_count": 8,
   "id": "022a39b8-2d13-48ed-a926-8397547c30be",
   "metadata": {},
   "outputs": [
    {
     "ename": "KeyError",
     "evalue": "\"['last', 'volume'] not in index\"",
     "output_type": "error",
     "traceback": [
      "\u001b[1;31m---------------------------------------------------------------------------\u001b[0m",
      "\u001b[1;31mKeyError\u001b[0m                                  Traceback (most recent call last)",
      "Input \u001b[1;32mIn [8]\u001b[0m, in \u001b[0;36m<cell line: 1>\u001b[1;34m()\u001b[0m\n\u001b[1;32m----> 1\u001b[0m \u001b[43mlambda_handler\u001b[49m\u001b[43m(\u001b[49m\u001b[43m{\u001b[49m\u001b[38;5;124;43m\"\u001b[39;49m\u001b[38;5;124;43mfunction\u001b[39;49m\u001b[38;5;124;43m\"\u001b[39;49m\u001b[43m:\u001b[49m\u001b[43m \u001b[49m\u001b[38;5;124;43m\"\u001b[39;49m\u001b[38;5;124;43msave_clean_ticks\u001b[39;49m\u001b[38;5;124;43m\"\u001b[39;49m\u001b[43m,\u001b[49m\u001b[43m \u001b[49m\u001b[38;5;124;43m\"\u001b[39;49m\u001b[38;5;124;43mbatch_id\u001b[39;49m\u001b[38;5;124;43m\"\u001b[39;49m\u001b[43m:\u001b[49m\u001b[43mresult\u001b[49m\u001b[43m[\u001b[49m\u001b[38;5;241;43m0\u001b[39;49m\u001b[43m]\u001b[49m\u001b[43m[\u001b[49m\u001b[38;5;241;43m0\u001b[39;49m\u001b[43m]\u001b[49m\u001b[43m}\u001b[49m\u001b[43m,\u001b[49m\u001b[43m \u001b[49m\u001b[38;5;28;43;01mNone\u001b[39;49;00m\u001b[43m)\u001b[49m\n",
      "File \u001b[1;32m~\\Documents\\Projects\\forex\\mercury-pipeline-metaapi-sam/lambda\\app.py:63\u001b[0m, in \u001b[0;36mlambda_handler\u001b[1;34m(event, context)\u001b[0m\n\u001b[0;32m     61\u001b[0m function \u001b[38;5;241m=\u001b[39m functions_process[function_name][\u001b[38;5;124m\"\u001b[39m\u001b[38;5;124mfunction\u001b[39m\u001b[38;5;124m\"\u001b[39m]\n\u001b[0;32m     62\u001b[0m kwargs[\u001b[38;5;124m\"\u001b[39m\u001b[38;5;124mis_async\u001b[39m\u001b[38;5;124m\"\u001b[39m] \u001b[38;5;241m=\u001b[39m functions_process[function_name][\u001b[38;5;124m\"\u001b[39m\u001b[38;5;124mis_async\u001b[39m\u001b[38;5;124m\"\u001b[39m]\n\u001b[1;32m---> 63\u001b[0m \u001b[38;5;28;01mreturn\u001b[39;00m process_batch(\n\u001b[0;32m     64\u001b[0m     function,\n\u001b[0;32m     65\u001b[0m     \u001b[38;5;241m*\u001b[39m\u001b[38;5;241m*\u001b[39mkwargs,\n\u001b[0;32m     66\u001b[0m )\n",
      "File \u001b[1;32m~\\Documents\\Projects\\forex\\mercury-pipeline-metaapi-sam/lambda\\src\\utils.py:47\u001b[0m, in \u001b[0;36mprocess_batch\u001b[1;34m(func, batch_id, is_async)\u001b[0m\n\u001b[0;32m     45\u001b[0m batch \u001b[38;5;241m=\u001b[39m table\u001b[38;5;241m.\u001b[39mget_item(Key\u001b[38;5;241m=\u001b[39m{\u001b[38;5;124m\"\u001b[39m\u001b[38;5;124mid\u001b[39m\u001b[38;5;124m\"\u001b[39m:batch_id})[\u001b[38;5;124m\"\u001b[39m\u001b[38;5;124mItem\u001b[39m\u001b[38;5;124m\"\u001b[39m]\n\u001b[0;32m     46\u001b[0m \u001b[38;5;28;01mfor\u001b[39;00m item \u001b[38;5;129;01min\u001b[39;00m batch[\u001b[38;5;124m\"\u001b[39m\u001b[38;5;124mbatch\u001b[39m\u001b[38;5;124m\"\u001b[39m]:\n\u001b[1;32m---> 47\u001b[0m     results\u001b[38;5;241m.\u001b[39mappend(func(\u001b[38;5;241m*\u001b[39m\u001b[38;5;241m*\u001b[39mitem))\n\u001b[0;32m     48\u001b[0m wr\u001b[38;5;241m.\u001b[39mdynamodb\u001b[38;5;241m.\u001b[39mdelete_items([{\u001b[38;5;124m\"\u001b[39m\u001b[38;5;124mid\u001b[39m\u001b[38;5;124m\"\u001b[39m:batch_id}], TABLE_PIPELINE)\n\u001b[0;32m     49\u001b[0m \u001b[38;5;28;01mreturn\u001b[39;00m \u001b[38;5;28mall\u001b[39m(results)\n",
      "File \u001b[1;32m~\\Documents\\Projects\\forex\\mercury-pipeline-metaapi-sam/lambda\\src\\ticks\\clean\\save.py:73\u001b[0m, in \u001b[0;36msave_clean_ticks\u001b[1;34m(key_raw_ticks, **kwargs)\u001b[0m\n\u001b[0;32m     70\u001b[0m data \u001b[38;5;241m=\u001b[39m load_json_data(key_raw_ticks)\n\u001b[0;32m     72\u001b[0m \u001b[38;5;66;03m# Convert raw ticks to clean ticks\u001b[39;00m\n\u001b[1;32m---> 73\u001b[0m df_clean_ticks \u001b[38;5;241m=\u001b[39m \u001b[43mget_clean_ticks\u001b[49m\u001b[43m(\u001b[49m\u001b[43mdata\u001b[49m\u001b[43m)\u001b[49m\n\u001b[0;32m     75\u001b[0m \u001b[38;5;66;03m#Save as parquet\u001b[39;00m\n\u001b[0;32m     76\u001b[0m wr\u001b[38;5;241m.\u001b[39ms3\u001b[38;5;241m.\u001b[39mto_parquet(\n\u001b[0;32m     77\u001b[0m     df_clean_ticks,\n\u001b[0;32m     78\u001b[0m     dataset\u001b[38;5;241m=\u001b[39m\u001b[38;5;28;01mTrue\u001b[39;00m,\n\u001b[1;32m   (...)\u001b[0m\n\u001b[0;32m     87\u001b[0m     ]\n\u001b[0;32m     88\u001b[0m )\n",
      "File \u001b[1;32m~\\Documents\\Projects\\forex\\mercury-pipeline-metaapi-sam/lambda\\src\\ticks\\clean\\get.py:35\u001b[0m, in \u001b[0;36mget_clean_ticks\u001b[1;34m(data)\u001b[0m\n\u001b[0;32m     33\u001b[0m df_ticks \u001b[38;5;241m=\u001b[39m df_ticks\u001b[38;5;241m.\u001b[39mdrop(columns\u001b[38;5;241m=\u001b[39m[\u001b[38;5;124m\"\u001b[39m\u001b[38;5;124mtime\u001b[39m\u001b[38;5;124m\"\u001b[39m, \u001b[38;5;124m\"\u001b[39m\u001b[38;5;124mbrokerTime\u001b[39m\u001b[38;5;124m\"\u001b[39m])\n\u001b[0;32m     34\u001b[0m df_ticks[\u001b[38;5;124m\"\u001b[39m\u001b[38;5;124mfrequency\u001b[39m\u001b[38;5;124m\"\u001b[39m] \u001b[38;5;241m=\u001b[39m \u001b[38;5;124m\"\u001b[39m\u001b[38;5;124mtick\u001b[39m\u001b[38;5;124m\"\u001b[39m\n\u001b[1;32m---> 35\u001b[0m \u001b[38;5;28;01mreturn\u001b[39;00m \u001b[43mdf_ticks\u001b[49m\u001b[43m[\u001b[49m\u001b[43mcolumns\u001b[49m\u001b[43m]\u001b[49m\n",
      "File \u001b[1;32m~\\AppData\\Roaming\\Python\\Python39\\site-packages\\pandas\\core\\frame.py:3464\u001b[0m, in \u001b[0;36mDataFrame.__getitem__\u001b[1;34m(self, key)\u001b[0m\n\u001b[0;32m   3462\u001b[0m     \u001b[38;5;28;01mif\u001b[39;00m is_iterator(key):\n\u001b[0;32m   3463\u001b[0m         key \u001b[38;5;241m=\u001b[39m \u001b[38;5;28mlist\u001b[39m(key)\n\u001b[1;32m-> 3464\u001b[0m     indexer \u001b[38;5;241m=\u001b[39m \u001b[38;5;28;43mself\u001b[39;49m\u001b[38;5;241;43m.\u001b[39;49m\u001b[43mloc\u001b[49m\u001b[38;5;241;43m.\u001b[39;49m\u001b[43m_get_listlike_indexer\u001b[49m\u001b[43m(\u001b[49m\u001b[43mkey\u001b[49m\u001b[43m,\u001b[49m\u001b[43m \u001b[49m\u001b[43maxis\u001b[49m\u001b[38;5;241;43m=\u001b[39;49m\u001b[38;5;241;43m1\u001b[39;49m\u001b[43m)\u001b[49m[\u001b[38;5;241m1\u001b[39m]\n\u001b[0;32m   3466\u001b[0m \u001b[38;5;66;03m# take() does not accept boolean indexers\u001b[39;00m\n\u001b[0;32m   3467\u001b[0m \u001b[38;5;28;01mif\u001b[39;00m \u001b[38;5;28mgetattr\u001b[39m(indexer, \u001b[38;5;124m\"\u001b[39m\u001b[38;5;124mdtype\u001b[39m\u001b[38;5;124m\"\u001b[39m, \u001b[38;5;28;01mNone\u001b[39;00m) \u001b[38;5;241m==\u001b[39m \u001b[38;5;28mbool\u001b[39m:\n",
      "File \u001b[1;32m~\\AppData\\Roaming\\Python\\Python39\\site-packages\\pandas\\core\\indexing.py:1314\u001b[0m, in \u001b[0;36m_LocIndexer._get_listlike_indexer\u001b[1;34m(self, key, axis)\u001b[0m\n\u001b[0;32m   1311\u001b[0m \u001b[38;5;28;01melse\u001b[39;00m:\n\u001b[0;32m   1312\u001b[0m     keyarr, indexer, new_indexer \u001b[38;5;241m=\u001b[39m ax\u001b[38;5;241m.\u001b[39m_reindex_non_unique(keyarr)\n\u001b[1;32m-> 1314\u001b[0m \u001b[38;5;28;43mself\u001b[39;49m\u001b[38;5;241;43m.\u001b[39;49m\u001b[43m_validate_read_indexer\u001b[49m\u001b[43m(\u001b[49m\u001b[43mkeyarr\u001b[49m\u001b[43m,\u001b[49m\u001b[43m \u001b[49m\u001b[43mindexer\u001b[49m\u001b[43m,\u001b[49m\u001b[43m \u001b[49m\u001b[43maxis\u001b[49m\u001b[43m)\u001b[49m\n\u001b[0;32m   1316\u001b[0m \u001b[38;5;28;01mif\u001b[39;00m needs_i8_conversion(ax\u001b[38;5;241m.\u001b[39mdtype) \u001b[38;5;129;01mor\u001b[39;00m \u001b[38;5;28misinstance\u001b[39m(\n\u001b[0;32m   1317\u001b[0m     ax, (IntervalIndex, CategoricalIndex)\n\u001b[0;32m   1318\u001b[0m ):\n\u001b[0;32m   1319\u001b[0m     \u001b[38;5;66;03m# For CategoricalIndex take instead of reindex to preserve dtype.\u001b[39;00m\n\u001b[0;32m   1320\u001b[0m     \u001b[38;5;66;03m#  For IntervalIndex this is to map integers to the Intervals they match to.\u001b[39;00m\n\u001b[0;32m   1321\u001b[0m     keyarr \u001b[38;5;241m=\u001b[39m ax\u001b[38;5;241m.\u001b[39mtake(indexer)\n",
      "File \u001b[1;32m~\\AppData\\Roaming\\Python\\Python39\\site-packages\\pandas\\core\\indexing.py:1377\u001b[0m, in \u001b[0;36m_LocIndexer._validate_read_indexer\u001b[1;34m(self, key, indexer, axis)\u001b[0m\n\u001b[0;32m   1374\u001b[0m     \u001b[38;5;28;01mraise\u001b[39;00m \u001b[38;5;167;01mKeyError\u001b[39;00m(\u001b[38;5;124mf\u001b[39m\u001b[38;5;124m\"\u001b[39m\u001b[38;5;124mNone of [\u001b[39m\u001b[38;5;132;01m{\u001b[39;00mkey\u001b[38;5;132;01m}\u001b[39;00m\u001b[38;5;124m] are in the [\u001b[39m\u001b[38;5;132;01m{\u001b[39;00maxis_name\u001b[38;5;132;01m}\u001b[39;00m\u001b[38;5;124m]\u001b[39m\u001b[38;5;124m\"\u001b[39m)\n\u001b[0;32m   1376\u001b[0m not_found \u001b[38;5;241m=\u001b[39m \u001b[38;5;28mlist\u001b[39m(ensure_index(key)[missing_mask\u001b[38;5;241m.\u001b[39mnonzero()[\u001b[38;5;241m0\u001b[39m]]\u001b[38;5;241m.\u001b[39munique())\n\u001b[1;32m-> 1377\u001b[0m \u001b[38;5;28;01mraise\u001b[39;00m \u001b[38;5;167;01mKeyError\u001b[39;00m(\u001b[38;5;124mf\u001b[39m\u001b[38;5;124m\"\u001b[39m\u001b[38;5;132;01m{\u001b[39;00mnot_found\u001b[38;5;132;01m}\u001b[39;00m\u001b[38;5;124m not in index\u001b[39m\u001b[38;5;124m\"\u001b[39m)\n",
      "\u001b[1;31mKeyError\u001b[0m: \"['last', 'volume'] not in index\""
     ]
    }
   ],
   "source": [
    "lambda_handler({\"function\": \"save_clean_ticks\", \"batch_id\":result[0][0]}, None)"
   ]
  },
  {
   "cell_type": "code",
   "execution_count": null,
   "id": "dc91cc08-581f-4621-b319-7fbe0ba6d48a",
   "metadata": {},
   "outputs": [],
   "source": [
    "assert False"
   ]
  },
  {
   "cell_type": "code",
   "execution_count": 10,
   "id": "f3ecc927-c146-4708-92fa-7df443cddb14",
   "metadata": {},
   "outputs": [],
   "source": [
    "# result = lambda_handler({\"function\": \"setup_save_candles_from_ticks\"},  None)\n",
    "# result"
   ]
  },
  {
   "cell_type": "code",
   "execution_count": null,
   "id": "64a61d4d-4286-4696-87c9-ef6075f24ec8",
   "metadata": {},
   "outputs": [],
   "source": [
    "# lambda_handler({\"function\": \"save_candles_from_ticks\", \"batch_id\":result[0][0]},  None)"
   ]
  },
  {
   "cell_type": "code",
   "execution_count": null,
   "id": "d4f9509d-6bd5-4360-b946-5cc8a8dea86d",
   "metadata": {},
   "outputs": [],
   "source": [
    "result = lambda_handler(\n",
    "    {\n",
    "        \"function\": \"setup_save_candles_transformed\",\n",
    "        \"name_dataset_in\": \"from_ticks\",\n",
    "        \"name_dataset_out\": \"ffill\",\n",
    "        \"function_names\": [\"ffill\"],\n",
    "    },\n",
    "    None\n",
    ")\n",
    "np.max(result)"
   ]
  },
  {
   "cell_type": "code",
   "execution_count": null,
   "id": "3bb23199-e06a-4642-a7ab-8d6ae4937c46",
   "metadata": {},
   "outputs": [],
   "source": [
    "%%time\n",
    "lambda_handler({\"function\": \"save_candles_transformed\", \"batch_id\":result[0][0]},  None)"
   ]
  },
  {
   "cell_type": "code",
   "execution_count": null,
   "id": "8642cef6-8ab5-4a55-887c-9f4f8ed5a294",
   "metadata": {},
   "outputs": [],
   "source": [
    "%%time\n",
    "df = wr.s3.read_parquet(\n",
    "    f\"s3://{BUCKET}/{DIR_CANDLES_ROOT}/ffill/\",\n",
    "    dataset=True,\n",
    "    partition_filter = lambda x: True if all([\n",
    "        x[\"symbol\"] == \"GBPUSD\", x[\"frequency\"] == \"15T\"\n",
    "    ]) else False,\n",
    ")"
   ]
  },
  {
   "cell_type": "code",
   "execution_count": null,
   "id": "71da84f8-f88e-4451-853a-906e1a1ecb54",
   "metadata": {},
   "outputs": [],
   "source": [
    "import matplotlib.pyplot as plt"
   ]
  },
  {
   "cell_type": "code",
   "execution_count": null,
   "id": "ea4868cf-48d9-4ec4-8911-516d92d6ffb8",
   "metadata": {},
   "outputs": [],
   "source": [
    "plt.step(df[\"timestamp_utc.open\"], df[\"ask.close\"])"
   ]
  },
  {
   "cell_type": "code",
   "execution_count": null,
   "id": "20222627-6455-417b-91eb-a48ee1f2566b",
   "metadata": {},
   "outputs": [],
   "source": [
    "f_filter = lambda x: True if all([\n",
    "    x[\"symbol\"] == \"GBPUSD\",\n",
    "    x[\"frequency\"] == \"15T\",\n",
    "]) else False"
   ]
  },
  {
   "cell_type": "code",
   "execution_count": null,
   "id": "f8b472c1-0be9-4a5f-80dc-65df39a56e3a",
   "metadata": {},
   "outputs": [],
   "source": [
    "keys = [\n",
    "    x for x in wr.s3.list_objects(\n",
    "        f\"s3://{BUCKET}/{DIR_CANDLES_ROOT}/ffill/\",\n",
    "        suffix=\".parquet\"\n",
    "    ) if f_filter(get_parameters_from_key(x))\n",
    "]"
   ]
  },
  {
   "cell_type": "code",
   "execution_count": null,
   "id": "c09f45dd-de8a-474d-beaa-3dc0d1d43aa3",
   "metadata": {},
   "outputs": [],
   "source": [
    "len(keys)"
   ]
  },
  {
   "cell_type": "code",
   "execution_count": null,
   "id": "3e5b30d1-5421-449a-9027-e70db915d587",
   "metadata": {},
   "outputs": [],
   "source": [
    "wr.s3.download("
   ]
  },
  {
   "cell_type": "code",
   "execution_count": null,
   "id": "e81cf5f8-e778-4858-b9c0-be6cb473c349",
   "metadata": {},
   "outputs": [],
   "source": [
    "%%time\n",
    "dfs = [wr.s3.read_parquet(x) for x in keys]"
   ]
  },
  {
   "cell_type": "code",
   "execution_count": null,
   "id": "6650cb27-1f11-437d-8fdd-c2b9236a6093",
   "metadata": {},
   "outputs": [],
   "source": [
    "%%time\n",
    "wr.s3.read_parquet(keys)"
   ]
  },
  {
   "cell_type": "code",
   "execution_count": null,
   "id": "88d3c1d2-9f06-48fd-ba8f-55c209c8f4c0",
   "metadata": {},
   "outputs": [],
   "source": [
    "%%time\n",
    "for key in keys:\n",
    "    wr.s3.download(\n",
    "        key,\n",
    "        f\"./tmp/{key.split('candles/')[-1]}\"\n",
    "    )"
   ]
  },
  {
   "cell_type": "code",
   "execution_count": null,
   "id": "6a4faab4-6c3a-4169-85df-183cf8d4384a",
   "metadata": {},
   "outputs": [],
   "source": []
  },
  {
   "cell_type": "code",
   "execution_count": null,
   "id": "7bce1b42-445c-430f-bd29-570be85ae702",
   "metadata": {},
   "outputs": [],
   "source": []
  }
 ],
 "metadata": {
  "kernelspec": {
   "display_name": "Python 3 (ipykernel)",
   "language": "python",
   "name": "python3"
  },
  "language_info": {
   "codemirror_mode": {
    "name": "ipython",
    "version": 3
   },
   "file_extension": ".py",
   "mimetype": "text/x-python",
   "name": "python",
   "nbconvert_exporter": "python",
   "pygments_lexer": "ipython3",
   "version": "3.9.12"
  }
 },
 "nbformat": 4,
 "nbformat_minor": 5
}
