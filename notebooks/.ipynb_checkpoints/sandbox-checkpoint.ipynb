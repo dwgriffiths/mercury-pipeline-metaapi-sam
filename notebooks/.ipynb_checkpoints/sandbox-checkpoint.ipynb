{
 "cells": [
  {
   "cell_type": "code",
   "execution_count": 1,
   "id": "e7fd68f0-a1e8-4f16-a6f1-8898e37770a5",
   "metadata": {},
   "outputs": [],
   "source": [
    "import awswrangler as wr\n",
    "from datetime import datetime, timedelta\n",
    "import os\n",
    "import sys"
   ]
  },
  {
   "cell_type": "code",
   "execution_count": 2,
   "id": "60da779f-9b5f-4caa-a4c8-0ee1498051e1",
   "metadata": {},
   "outputs": [],
   "source": [
    "repo_name = \"mercury-pipeline-metaapi-sam\"\n",
    "sys.path.append(os.getcwd().split(repo_name)[0] + repo_name + \"/workflow\") "
   ]
  },
  {
   "cell_type": "code",
   "execution_count": 3,
   "id": "98ef5b0d-7893-4044-963d-4c02643b8af6",
   "metadata": {},
   "outputs": [],
   "source": [
    "from src.config import *\n",
    "from src.io import *\n",
    "from src.utils import *"
   ]
  },
  {
   "cell_type": "code",
   "execution_count": 4,
   "id": "2dbb67e8-67a2-4149-9b48-5557287e9bbf",
   "metadata": {},
   "outputs": [],
   "source": [
    "from app import *"
   ]
  },
  {
   "cell_type": "code",
   "execution_count": null,
   "id": "86e80d4a-9183-4668-88bd-0945a9136574",
   "metadata": {},
   "outputs": [],
   "source": [
    "# result = lambda_handler({\"function\": \"setup_save_raw_ticks\", \"kwargs\":{\"stop\":False}}, None)\n",
    "# batch = result[\"batches\"][0]\n",
    "# item = batch[0]\n",
    "# item"
   ]
  },
  {
   "cell_type": "code",
   "execution_count": null,
   "id": "c5a5be31-7f5c-4e47-b784-479e84073345",
   "metadata": {},
   "outputs": [],
   "source": [
    "# await job_batch_async(\n",
    "#     save_raw_ticks,\n",
    "#     batch\n",
    "# )"
   ]
  },
  {
   "cell_type": "code",
   "execution_count": null,
   "id": "74e27745-73bb-4043-b0a6-b7933030ee28",
   "metadata": {},
   "outputs": [],
   "source": [
    "# lambda_handler({\"function\": \"save_raw_ticks\", \"kwargs\":batch}, None)"
   ]
  },
  {
   "cell_type": "code",
   "execution_count": null,
   "id": "8b1fc13c-d8f6-4c88-a711-b302bb0f610f",
   "metadata": {},
   "outputs": [],
   "source": [
    "# result = lambda_handler({\"function\": \"setup_save_clean_ticks\", \"kwargs\":{\"overwrite\":False}}, None)\n",
    "# batch = result[\"batches\"][0]\n",
    "# item = batch[0]\n",
    "# item"
   ]
  },
  {
   "cell_type": "code",
   "execution_count": null,
   "id": "cf031a70-0601-4baa-af85-d35880134292",
   "metadata": {},
   "outputs": [],
   "source": [
    "# result = lambda_handler({\"function\": \"setup_save_candles_from_ticks\", \"kwargs\":{\"stop\":False}}, None)\n",
    "# batch = result[\"batches\"][0]\n",
    "# item = batch[0]\n",
    "# item"
   ]
  },
  {
   "cell_type": "code",
   "execution_count": null,
   "id": "022a39b8-2d13-48ed-a926-8397547c30be",
   "metadata": {},
   "outputs": [],
   "source": [
    "# lambda_handler({\"function\": \"save_candles_from_ticks\", \"kwargs\":batch}, None) # save_candles_from_ticks(**item)"
   ]
  },
  {
   "cell_type": "code",
   "execution_count": 6,
   "id": "353326cc-d0dd-4500-8856-aa0bf3d47872",
   "metadata": {},
   "outputs": [
    {
     "data": {
      "text/plain": [
       "{'prefix_in': 's3://datalake.dgriffiths.io/projects/mercury/data/clean/candles/from_ticks/symbol=GBPUSD/frequency=15T/year=2022/month=06/date=20220630/hour=11/',\n",
       " 'prefix_lookback': 's3://datalake.dgriffiths.io/projects/mercury/data/clean/candles/from_ticks/symbol=GBPUSD/frequency=15T/year=2022/month=06/date=20220629/hour=20/',\n",
       " 'name_dataset_out': 'ffill',\n",
       " 'function_names': ['ffill'],\n",
       " 'datetimestr': '2022063011'}"
      ]
     },
     "execution_count": 6,
     "metadata": {},
     "output_type": "execute_result"
    }
   ],
   "source": [
    "result = lambda_handler(\n",
    "    {\n",
    "        \"function\": \"setup_save_candles_transformed\",\n",
    "        \"name_dataset_in\": \"from_ticks\",\n",
    "        \"name_dataset_out\": \"ffill\",\n",
    "        \"function_names\": [\"ffill\"],\n",
    "        \"kwargs\":{\n",
    "         }\n",
    "    },\n",
    "    None\n",
    ")\n",
    "batch = result[\"batches\"][0]\n",
    "item = batch[0]\n",
    "item"
   ]
  },
  {
   "cell_type": "code",
   "execution_count": 7,
   "id": "741844b3-84a6-4d7c-a935-da51213f93e0",
   "metadata": {},
   "outputs": [
    {
     "name": "stdout",
     "output_type": "stream",
     "text": [
      "{'symbol_min': 'GBPUSD', 'symbol_max': 'GBPUSD', 'frequency_min': '15T', 'frequency_max': '15T', 'year_min': '2022', 'year_max': '2022', 'month_min': '06', 'month_max': '06', 'date_min': '20220629', 'date_max': '20220630', 'hour_min': '11', 'hour_max': '20'}\n"
     ]
    }
   ],
   "source": [
    "tic = datetime.now()\n",
    "save_candles_transformed(**item)\n",
    "toc = datetime.now()\n",
    "print((toc-tic).total_seconds())"
   ]
  },
  {
   "cell_type": "code",
   "execution_count": null,
   "id": "faeaa9fa-96ab-4cb0-a068-453165cdabf5",
   "metadata": {},
   "outputs": [],
   "source": [
    "import pandas as pd\n",
    "pd.read_parquet(\"s3://datalake.dgriffiths.io/projects/mercury/data/clean/candles/ffill/\")"
   ]
  },
  {
   "cell_type": "code",
   "execution_count": null,
   "id": "29527139-9605-45a3-a161-80a1cb082b5d",
   "metadata": {},
   "outputs": [],
   "source": [
    "# lambda_handler(\n",
    "#     {\n",
    "#         \"function\": \"save_candles_transformed\",\n",
    "#         \"kwargs\":batch[:1]\n",
    "#     },\n",
    "#     None\n",
    "# )"
   ]
  }
 ],
 "metadata": {
  "kernelspec": {
   "display_name": "Python 3 (ipykernel)",
   "language": "python",
   "name": "python3"
  },
  "language_info": {
   "codemirror_mode": {
    "name": "ipython",
    "version": 3
   },
   "file_extension": ".py",
   "mimetype": "text/x-python",
   "name": "python",
   "nbconvert_exporter": "python",
   "pygments_lexer": "ipython3",
   "version": "3.9.12"
  }
 },
 "nbformat": 4,
 "nbformat_minor": 5
}
